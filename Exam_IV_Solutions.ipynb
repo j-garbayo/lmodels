{
  "nbformat": 4,
  "nbformat_minor": 0,
  "metadata": {
    "colab": {
      "name": "Exam IV - Solutions.ipynb",
      "provenance": [],
      "collapsed_sections": [
        "SBk1ir1eoha8"
      ],
      "toc_visible": true
    },
    "kernelspec": {
      "name": "python3",
      "display_name": "Python 3"
    }
  },
  "cells": [
    {
      "cell_type": "markdown",
      "metadata": {
        "id": "ExHF0jpSohaq"
      },
      "source": [
        "# Exam IV - Linear Regression\n",
        "## Bootcamp for Data Science\n",
        "\n",
        "**Prof. Dr. Juanjo Manjarín**\n",
        "\n",
        "**14th March, 2021**\n",
        "\n",
        "---\n"
      ]
    },
    {
      "cell_type": "markdown",
      "metadata": {
        "id": "EjCb_p_Xohaz"
      },
      "source": [
        "### <font color = \"red\"> Student Data </font>\n",
        "\n",
        "Fill your NAME only:\n",
        "\n",
        "#####  <font color = \"mediumblue\"> Student Name: </font>.....................................\n",
        "#####  <font color = \"mediumblue\"> Grade:  </font> .....................................  \n",
        "\n",
        "---"
      ]
    },
    {
      "cell_type": "markdown",
      "metadata": {
        "id": "SBk1ir1eoha8"
      },
      "source": [
        "## <font color = \"blue\"> Instructions </font>\n",
        "\n",
        "Read carefully these instructions and follow them during your exam and in your submission.\n",
        "\n",
        " * You have **2 weeks** to finish the exam\n",
        " * Once you have finished it you must upload it to the **campus online** in the assignment created with name **Exam II** (see below some instructions)\n",
        " * The files accepted for submission are:\n",
        "    * Python notebook with extension `.ipynb`\n",
        "    * The `html` version of the previous notebook (**recommended** since this guaranties that your codes can be executed)\n",
        "    * A `.pdf`file with all the chunks of code executed\n",
        "    * A `.py` file may be accpeted but then you have to copy all this document in it and answer the questions using Python comments\n",
        " * Read carefully the questions and do not answer before knowing what is asked\n",
        " * Full marks require **full explanations**. Just answering the question is not enough, for example, if one answer is that the type of data is *panel data*, saying only that will not grant you more than the 25% of the available points.\n",
        " * The **answers** must be written right below the questions made in this notebook (create any chunks as needed)\n",
        " * Each question is worth **one point*\n",
        "\n",
        "About the student data and file name\n",
        "\n",
        " * You must fill the **student data** field `Name` only\n",
        " * The **name of the file** you submit to the campus online must be: `studentname_exam_II.ipynb`\n",
        "\n",
        "---\n",
        "\n"
      ]
    },
    {
      "cell_type": "markdown",
      "metadata": {
        "id": "f2R6ok7aohbD"
      },
      "source": [
        "# <font color = \"Red\"> Case Study </font>\n",
        "\n",
        "In this case we are going to analyze part of the World Bank database concerning the **Environment** set of the **World Development Indicators**. In particular we are given a set of countries and several variables (see description in the tables below and visit the World Bank webpage to see a more detailed description). We want to understand if any of the variables contained in the dataset can be used to understand the **Life Expectancy**:"
      ]
    },
    {
      "cell_type": "code",
      "metadata": {
        "id": "hkkT7Vy8ohbL",
        "colab": {
          "base_uri": "https://localhost:8080/",
          "height": 325
        },
        "outputId": "cabfde0e-5440-4317-8e14-32810f1d1320"
      },
      "source": [
        "# @hidden_cell\n",
        "from IPython.display import HTML\n",
        "HTML('<table style=\"margin-left:auto;margin-right:auto;\"><caption style = \"text-align: center;\">Table 1.- Variables</caption><tr><th>Variable</th><th style=\"text-align: center;\">Description</th><th style=\"text-align: center;\">Licence URL</th></tr><tr><td>CO2Emissions</td><td>CO2 emissions (kt)</td><td>1</td></tr><tr><td>ForestArea</td><td>Forest area is land under natural or planted stands of trees of at least 5 meters in situ (% of land area)</td><td>1</td></tr><tr><td>UrbanPop</td><td>people living in urban areas (% Total Population)</td><td>1</td></tr><tr><td>AirPollution</td><td>Percent of population exposed to ambient concentrations of PM2.5 that exceed the WHO guideline value</td><td>1</td></tr><tr><td>LExpectancy</td><td>Life expectancy at birth</td><td>1</td></tr><tr><td>HFC</td><td>HFC gas emissions (thousand metric tons of CO2 equivalent)</td><td>1</td></tr><tr><td>BasicWater</td><td>The percentage of people using at least basic water services</td><td>1</td></tr><tr><td>GHEmissions</td><td>Total greenhouse gas emissions (kt of CO2 equivalent)</td><td>1</td></tr><tr><td>ElecPowCons</td><td> Consumption of energy coming from power plants and combined heat and power plants less transmission, distribution, and transformation losses and own use by heat and power plants</td><td>2</td></tr><tr><td>year</td><td>Year (2010 or 2016)</td><td></td></tr>tr><td>Continent</td><td>Continent</td><td></td></tr></table>')"
      ],
      "execution_count": null,
      "outputs": [
        {
          "output_type": "execute_result",
          "data": {
            "text/html": [
              "<table style=\"margin-left:auto;margin-right:auto;\"><caption style = \"text-align: center;\">Table 1.- Variables</caption><tr><th>Variable</th><th style=\"text-align: center;\">Description</th><th style=\"text-align: center;\">Licence URL</th></tr><tr><td>CO2Emissions</td><td>CO2 emissions (kt)</td><td>1</td></tr><tr><td>ForestArea</td><td>Forest area is land under natural or planted stands of trees of at least 5 meters in situ (% of land area)</td><td>1</td></tr><tr><td>UrbanPop</td><td>people living in urban areas (% Total Population)</td><td>1</td></tr><tr><td>AirPollution</td><td>Percent of population exposed to ambient concentrations of PM2.5 that exceed the WHO guideline value</td><td>1</td></tr><tr><td>LExpectancy</td><td>Life expectancy at birth</td><td>1</td></tr><tr><td>HFC</td><td>HFC gas emissions (thousand metric tons of CO2 equivalent)</td><td>1</td></tr><tr><td>BasicWater</td><td>The percentage of people using at least basic water services</td><td>1</td></tr><tr><td>GHEmissions</td><td>Total greenhouse gas emissions (kt of CO2 equivalent)</td><td>1</td></tr><tr><td>ElecPowCons</td><td> Consumption of energy coming from power plants and combined heat and power plants less transmission, distribution, and transformation losses and own use by heat and power plants</td><td>2</td></tr><tr><td>year</td><td>Year (2010 or 2016)</td><td></td></tr>tr><td>Continent</td><td>Continent</td><td></td></tr></table>"
            ],
            "text/plain": [
              "<IPython.core.display.HTML object>"
            ]
          },
          "metadata": {
            "tags": []
          },
          "execution_count": 1
        }
      ]
    },
    {
      "cell_type": "markdown",
      "metadata": {
        "id": "aBXhhjQaohcG"
      },
      "source": [
        "where the licence for use and distribution of the data con be found in the following URLs:\n",
        "\n",
        " * Licence 1: CC By-4.0, https://datacatalog.worldbank.org/public-licenses#cc-by\n",
        " * Licence 2: IEA License, http://www.iea.org/t&c/termsandconditions"
      ]
    },
    {
      "cell_type": "markdown",
      "metadata": {
        "id": "4H3_L_Qlohcf"
      },
      "source": [
        "## <font color = \"MediumBlue\">Packages</font>\n",
        "\n",
        "Insert in the cell code below all the packages and modules you will use in this exam"
      ]
    },
    {
      "cell_type": "code",
      "metadata": {
        "id": "5VndXP9sohcj"
      },
      "source": [
        "# Base ------------------------------------------------------------------------------\n",
        "import pandas as pd\n",
        "import numpy as np\n",
        "import scipy.stats as ss\n",
        "from statsmodels.compat import lzip\n",
        "\n",
        "# Viz -------------------------------------------------------------------------------\n",
        "import seaborn as sns\n",
        "import matplotlib.pyplot as plt\n",
        "\n",
        "plt.style.use('seaborn')\n",
        "plt.rc('font', size = 12)\n",
        "plt.rc('figure', titlesize = 20)\n",
        "plt.rc('axes', labelsize = 12)\n",
        "plt.rc('axes', titlesize = 15)\n",
        "\n",
        "# Models ----------------------------------------------------------------------------\n",
        "import statsmodels.stats as sts\n",
        "import statsmodels.api as sm\n",
        "import statsmodels.stats.api as sms\n",
        "import statsmodels.stats.anova as aov\n",
        "import statsmodels.stats.outliers_influence as sso\n",
        "import statsmodels.stats.diagnostic as ssd\n",
        "from statsmodels.formula.api import ols, wls\n",
        "from statsmodels.stats.outliers_influence import variance_inflation_factor\n",
        "from statsmodels.sandbox.regression.predstd import wls_prediction_std\n",
        "from sklearn.preprocessing import PowerTransformer\n",
        "from scipy.stats import mstats\n",
        "\n",
        "# Other -----------------------------------------------------------------------------\n",
        "import warnings\n",
        "warnings.filterwarnings(\"ignore\", category=RuntimeWarning)"
      ],
      "execution_count": null,
      "outputs": []
    },
    {
      "cell_type": "code",
      "metadata": {
        "colab": {
          "base_uri": "https://localhost:8080/"
        },
        "id": "Z5F7-kqySW8e",
        "outputId": "bb40b9a2-a96f-45cb-9e6e-4f3395b8e533"
      },
      "source": [
        "from google.colab import drive\n",
        "drive.mount('IEXL')"
      ],
      "execution_count": null,
      "outputs": [
        {
          "output_type": "stream",
          "text": [
            "Mounted at IEXL\n"
          ],
          "name": "stdout"
        }
      ]
    },
    {
      "cell_type": "code",
      "metadata": {
        "colab": {
          "base_uri": "https://localhost:8080/"
        },
        "id": "f1crxoNgWhfV",
        "outputId": "cd5ab0e7-ce22-4370-a64b-a103c8d549b9"
      },
      "source": [
        "!pip install scikit_posthocs"
      ],
      "execution_count": null,
      "outputs": [
        {
          "output_type": "stream",
          "text": [
            "Collecting scikit_posthocs\n",
            "\u001b[?25l  Downloading https://files.pythonhosted.org/packages/64/96/ba864fea59850fe58bba59899696b304c3d579827a678de0594d4fc30d9b/scikit-posthocs-0.6.7.tar.gz (43kB)\n",
            "\r\u001b[K     |███████▋                        | 10kB 12.4MB/s eta 0:00:01\r\u001b[K     |███████████████▏                | 20kB 17.3MB/s eta 0:00:01\r\u001b[K     |██████████████████████▊         | 30kB 17.4MB/s eta 0:00:01\r\u001b[K     |██████████████████████████████▎ | 40kB 14.3MB/s eta 0:00:01\r\u001b[K     |████████████████████████████████| 51kB 4.4MB/s \n",
            "\u001b[?25h  Installing build dependencies ... \u001b[?25l\u001b[?25hdone\n",
            "  Getting requirements to build wheel ... \u001b[?25l\u001b[?25hdone\n",
            "    Preparing wheel metadata ... \u001b[?25l\u001b[?25hdone\n",
            "Requirement already satisfied: scipy in /usr/local/lib/python3.7/dist-packages (from scikit_posthocs) (1.4.1)\n",
            "Requirement already satisfied: pandas>=0.20.0 in /usr/local/lib/python3.7/dist-packages (from scikit_posthocs) (1.1.5)\n",
            "Requirement already satisfied: statsmodels in /usr/local/lib/python3.7/dist-packages (from scikit_posthocs) (0.10.2)\n",
            "Requirement already satisfied: seaborn in /usr/local/lib/python3.7/dist-packages (from scikit_posthocs) (0.11.1)\n",
            "Requirement already satisfied: numpy in /usr/local/lib/python3.7/dist-packages (from scikit_posthocs) (1.19.5)\n",
            "Requirement already satisfied: matplotlib in /usr/local/lib/python3.7/dist-packages (from scikit_posthocs) (3.2.2)\n",
            "Requirement already satisfied: pytz>=2017.2 in /usr/local/lib/python3.7/dist-packages (from pandas>=0.20.0->scikit_posthocs) (2018.9)\n",
            "Requirement already satisfied: python-dateutil>=2.7.3 in /usr/local/lib/python3.7/dist-packages (from pandas>=0.20.0->scikit_posthocs) (2.8.1)\n",
            "Requirement already satisfied: patsy>=0.4.0 in /usr/local/lib/python3.7/dist-packages (from statsmodels->scikit_posthocs) (0.5.1)\n",
            "Requirement already satisfied: pyparsing!=2.0.4,!=2.1.2,!=2.1.6,>=2.0.1 in /usr/local/lib/python3.7/dist-packages (from matplotlib->scikit_posthocs) (2.4.7)\n",
            "Requirement already satisfied: cycler>=0.10 in /usr/local/lib/python3.7/dist-packages (from matplotlib->scikit_posthocs) (0.10.0)\n",
            "Requirement already satisfied: kiwisolver>=1.0.1 in /usr/local/lib/python3.7/dist-packages (from matplotlib->scikit_posthocs) (1.3.1)\n",
            "Requirement already satisfied: six>=1.5 in /usr/local/lib/python3.7/dist-packages (from python-dateutil>=2.7.3->pandas>=0.20.0->scikit_posthocs) (1.15.0)\n",
            "Building wheels for collected packages: scikit-posthocs\n",
            "  Building wheel for scikit-posthocs (PEP 517) ... \u001b[?25l\u001b[?25hdone\n",
            "  Created wheel for scikit-posthocs: filename=scikit_posthocs-0.6.7-cp37-none-any.whl size=37903 sha256=69d68d1d25e7898888f7dad248cbf9a489a19932a8e946665fae586c8cc5ca63\n",
            "  Stored in directory: /root/.cache/pip/wheels/00/0f/56/897c22820a48a74f50f1a85faaa4b133bb8865e8b094b596f5\n",
            "Successfully built scikit-posthocs\n",
            "Installing collected packages: scikit-posthocs\n",
            "Successfully installed scikit-posthocs-0.6.7\n"
          ],
          "name": "stdout"
        }
      ]
    },
    {
      "cell_type": "code",
      "metadata": {
        "id": "ovfoKJjrWkm1"
      },
      "source": [
        "import scikit_posthocs as sp"
      ],
      "execution_count": null,
      "outputs": []
    },
    {
      "cell_type": "markdown",
      "metadata": {
        "id": "MpMcOcm6ohcv"
      },
      "source": [
        "## <font color = \"MediumBlue\">Functions</font>\n",
        "\n",
        "Use the following code cell below to define any functions you may need in the exam"
      ]
    },
    {
      "cell_type": "code",
      "metadata": {
        "id": "cxuYaIKoohc0"
      },
      "source": [
        "# @hidden_cell\n"
      ],
      "execution_count": null,
      "outputs": []
    },
    {
      "cell_type": "markdown",
      "metadata": {
        "id": "kGndyGVGohdC"
      },
      "source": [
        "## <font color = \"MediumBlue\">The Data</font>\n",
        "\n",
        "In the Drive folder of the course you can find the dataset as an Excel file with name `LifeExpectancy.xlsx`. Load it into your environment using the code cell below. It is recommended that you inspect it before in order to identify how are the NaN values encoded. Be careful to only import the `Data` sheet.\n",
        "\n",
        "After loading the dataset, use `head` to show the first elements of the data in order to check it has been properly imported."
      ]
    },
    {
      "cell_type": "code",
      "metadata": {
        "id": "YNxhm6rzohdG",
        "colab": {
          "base_uri": "https://localhost:8080/",
          "height": 197
        },
        "outputId": "ca2398b6-b7c4-4bc3-bbdb-b150e671ac13"
      },
      "source": [
        "lexp = pd.read_excel('/content/IEXL/MyDrive/IEXL - Bootcamp Exams/Exam IV/LifeExpectancy.xlsx')\n",
        "lexp.head()"
      ],
      "execution_count": null,
      "outputs": [
        {
          "output_type": "execute_result",
          "data": {
            "text/html": [
              "<div>\n",
              "<style scoped>\n",
              "    .dataframe tbody tr th:only-of-type {\n",
              "        vertical-align: middle;\n",
              "    }\n",
              "\n",
              "    .dataframe tbody tr th {\n",
              "        vertical-align: top;\n",
              "    }\n",
              "\n",
              "    .dataframe thead th {\n",
              "        text-align: right;\n",
              "    }\n",
              "</style>\n",
              "<table border=\"1\" class=\"dataframe\">\n",
              "  <thead>\n",
              "    <tr style=\"text-align: right;\">\n",
              "      <th></th>\n",
              "      <th>Country</th>\n",
              "      <th>Continent</th>\n",
              "      <th>ForestArea</th>\n",
              "      <th>CO2Emissions</th>\n",
              "      <th>UrbanPop</th>\n",
              "      <th>AirPollution</th>\n",
              "      <th>Lexpectancy</th>\n",
              "      <th>HFC</th>\n",
              "      <th>BasicWater</th>\n",
              "      <th>GHEmissions</th>\n",
              "      <th>ElecPowCons</th>\n",
              "      <th>Year</th>\n",
              "    </tr>\n",
              "  </thead>\n",
              "  <tbody>\n",
              "    <tr>\n",
              "      <th>0</th>\n",
              "      <td>Albania</td>\n",
              "      <td>Europe</td>\n",
              "      <td>28.332116</td>\n",
              "      <td>4598.418</td>\n",
              "      <td>52.163</td>\n",
              "      <td>100.000000</td>\n",
              "      <td>76.562</td>\n",
              "      <td>105.0</td>\n",
              "      <td>87.811285</td>\n",
              "      <td>8506.996034</td>\n",
              "      <td>1943.343354</td>\n",
              "      <td>2010</td>\n",
              "    </tr>\n",
              "    <tr>\n",
              "      <th>1</th>\n",
              "      <td>Algeria</td>\n",
              "      <td>Africa</td>\n",
              "      <td>0.805294</td>\n",
              "      <td>119177.500</td>\n",
              "      <td>67.540</td>\n",
              "      <td>100.000000</td>\n",
              "      <td>74.938</td>\n",
              "      <td>275.0</td>\n",
              "      <td>92.389465</td>\n",
              "      <td>167674.633001</td>\n",
              "      <td>1016.636669</td>\n",
              "      <td>2010</td>\n",
              "    </tr>\n",
              "    <tr>\n",
              "      <th>2</th>\n",
              "      <td>Angola</td>\n",
              "      <td>Africa</td>\n",
              "      <td>46.907837</td>\n",
              "      <td>29057.308</td>\n",
              "      <td>59.783</td>\n",
              "      <td>100.000000</td>\n",
              "      <td>55.35</td>\n",
              "      <td>31.0</td>\n",
              "      <td>50.376841</td>\n",
              "      <td>40029.392101</td>\n",
              "      <td>206.454411</td>\n",
              "      <td>2010</td>\n",
              "    </tr>\n",
              "    <tr>\n",
              "      <th>3</th>\n",
              "      <td>Argentina</td>\n",
              "      <td>America</td>\n",
              "      <td>10.449119</td>\n",
              "      <td>187904.414</td>\n",
              "      <td>90.849</td>\n",
              "      <td>99.447641</td>\n",
              "      <td>75.278</td>\n",
              "      <td>506.0</td>\n",
              "      <td>98.468054</td>\n",
              "      <td>364684.253846</td>\n",
              "      <td>2877.652653</td>\n",
              "      <td>2010</td>\n",
              "    </tr>\n",
              "    <tr>\n",
              "      <th>4</th>\n",
              "      <td>Armenia</td>\n",
              "      <td>Europe</td>\n",
              "      <td>11.626273</td>\n",
              "      <td>4209.716</td>\n",
              "      <td>63.440</td>\n",
              "      <td>100.000000</td>\n",
              "      <td>73.331</td>\n",
              "      <td>565.0</td>\n",
              "      <td>98.266056</td>\n",
              "      <td>11393.039353</td>\n",
              "      <td>1726.259758</td>\n",
              "      <td>2010</td>\n",
              "    </tr>\n",
              "  </tbody>\n",
              "</table>\n",
              "</div>"
            ],
            "text/plain": [
              "     Country Continent  ForestArea  ...    GHEmissions  ElecPowCons  Year\n",
              "0    Albania    Europe   28.332116  ...    8506.996034  1943.343354  2010\n",
              "1    Algeria    Africa    0.805294  ...  167674.633001  1016.636669  2010\n",
              "2     Angola    Africa   46.907837  ...   40029.392101   206.454411  2010\n",
              "3  Argentina   America   10.449119  ...  364684.253846  2877.652653  2010\n",
              "4    Armenia    Europe   11.626273  ...   11393.039353  1726.259758  2010\n",
              "\n",
              "[5 rows x 12 columns]"
            ]
          },
          "metadata": {
            "tags": []
          },
          "execution_count": 12
        }
      ]
    },
    {
      "cell_type": "markdown",
      "metadata": {
        "id": "BciTQY5FY7cZ"
      },
      "source": [
        "Let's see the data types"
      ]
    },
    {
      "cell_type": "code",
      "metadata": {
        "colab": {
          "base_uri": "https://localhost:8080/"
        },
        "id": "TmQHjvA_Y5ms",
        "outputId": "4203cd99-92b0-463f-9dc8-e87b9c52166f"
      },
      "source": [
        "lexp.dtypes"
      ],
      "execution_count": null,
      "outputs": [
        {
          "output_type": "execute_result",
          "data": {
            "text/plain": [
              "Country          object\n",
              "Continent        object\n",
              "ForestArea      float64\n",
              "CO2Emissions    float64\n",
              "UrbanPop        float64\n",
              "AirPollution    float64\n",
              "Lexpectancy      object\n",
              "HFC             float64\n",
              "BasicWater      float64\n",
              "GHEmissions     float64\n",
              "ElecPowCons     float64\n",
              "Year              int64\n",
              "dtype: object"
            ]
          },
          "metadata": {
            "tags": []
          },
          "execution_count": 13
        }
      ]
    },
    {
      "cell_type": "markdown",
      "metadata": {
        "id": "IMkz8W5RY_df"
      },
      "source": [
        "It looks like Lexpectancy is not treated as a numerical variable, then let's change its type. However, when we run the code `lexp['Lexpectancy'].astype('float64')`, we receive the error `could not convert string to float: 'electric'\n",
        "`, which looks somewhat strange, but it points to a typo in the dataset. If we look for it, it turns out that the value for the life expectancy in Georgia in 2010 is written as `electric` and then we should either drop this value or go to WB dataset to find it. A fast search says that its value is 71.5 then let's apply this "
      ]
    },
    {
      "cell_type": "code",
      "metadata": {
        "colab": {
          "base_uri": "https://localhost:8080/",
          "height": 107
        },
        "id": "vTCG13lAY-IJ",
        "outputId": "6b63e5f1-6ee2-49a5-8ddf-69d2c0b3f42f"
      },
      "source": [
        "lexp[lexp['Country'] == 'Georgia']"
      ],
      "execution_count": null,
      "outputs": [
        {
          "output_type": "execute_result",
          "data": {
            "text/html": [
              "<div>\n",
              "<style scoped>\n",
              "    .dataframe tbody tr th:only-of-type {\n",
              "        vertical-align: middle;\n",
              "    }\n",
              "\n",
              "    .dataframe tbody tr th {\n",
              "        vertical-align: top;\n",
              "    }\n",
              "\n",
              "    .dataframe thead th {\n",
              "        text-align: right;\n",
              "    }\n",
              "</style>\n",
              "<table border=\"1\" class=\"dataframe\">\n",
              "  <thead>\n",
              "    <tr style=\"text-align: right;\">\n",
              "      <th></th>\n",
              "      <th>Country</th>\n",
              "      <th>Continent</th>\n",
              "      <th>ForestArea</th>\n",
              "      <th>CO2Emissions</th>\n",
              "      <th>UrbanPop</th>\n",
              "      <th>AirPollution</th>\n",
              "      <th>Lexpectancy</th>\n",
              "      <th>HFC</th>\n",
              "      <th>BasicWater</th>\n",
              "      <th>GHEmissions</th>\n",
              "      <th>ElecPowCons</th>\n",
              "      <th>Year</th>\n",
              "    </tr>\n",
              "  </thead>\n",
              "  <tbody>\n",
              "    <tr>\n",
              "      <th>42</th>\n",
              "      <td>Georgia</td>\n",
              "      <td>Europe</td>\n",
              "      <td>40.615915</td>\n",
              "      <td>6314.574</td>\n",
              "      <td>55.535</td>\n",
              "      <td>100.0</td>\n",
              "      <td>electric</td>\n",
              "      <td>20.0</td>\n",
              "      <td>95.736822</td>\n",
              "      <td>13108.623765</td>\n",
              "      <td>2049.544524</td>\n",
              "      <td>2010</td>\n",
              "    </tr>\n",
              "    <tr>\n",
              "      <th>173</th>\n",
              "      <td>Georgia</td>\n",
              "      <td>Europe</td>\n",
              "      <td>40.615915</td>\n",
              "      <td>10128.254</td>\n",
              "      <td>57.837</td>\n",
              "      <td>100.0</td>\n",
              "      <td>73.207</td>\n",
              "      <td>NaN</td>\n",
              "      <td>98.170550</td>\n",
              "      <td>NaN</td>\n",
              "      <td>NaN</td>\n",
              "      <td>2016</td>\n",
              "    </tr>\n",
              "  </tbody>\n",
              "</table>\n",
              "</div>"
            ],
            "text/plain": [
              "     Country Continent  ForestArea  ...   GHEmissions  ElecPowCons  Year\n",
              "42   Georgia    Europe   40.615915  ...  13108.623765  2049.544524  2010\n",
              "173  Georgia    Europe   40.615915  ...           NaN          NaN  2016\n",
              "\n",
              "[2 rows x 12 columns]"
            ]
          },
          "metadata": {
            "tags": []
          },
          "execution_count": 14
        }
      ]
    },
    {
      "cell_type": "code",
      "metadata": {
        "colab": {
          "base_uri": "https://localhost:8080/",
          "height": 107
        },
        "id": "qSNA0q18aqQR",
        "outputId": "eca688c6-a9f3-46fa-de84-21ebaa5e6806"
      },
      "source": [
        "lexp.at[42, 'Lexpectancy'] = 71.5\n",
        "lexp[lexp['Country'] == 'Georgia']"
      ],
      "execution_count": null,
      "outputs": [
        {
          "output_type": "execute_result",
          "data": {
            "text/html": [
              "<div>\n",
              "<style scoped>\n",
              "    .dataframe tbody tr th:only-of-type {\n",
              "        vertical-align: middle;\n",
              "    }\n",
              "\n",
              "    .dataframe tbody tr th {\n",
              "        vertical-align: top;\n",
              "    }\n",
              "\n",
              "    .dataframe thead th {\n",
              "        text-align: right;\n",
              "    }\n",
              "</style>\n",
              "<table border=\"1\" class=\"dataframe\">\n",
              "  <thead>\n",
              "    <tr style=\"text-align: right;\">\n",
              "      <th></th>\n",
              "      <th>Country</th>\n",
              "      <th>Continent</th>\n",
              "      <th>ForestArea</th>\n",
              "      <th>CO2Emissions</th>\n",
              "      <th>UrbanPop</th>\n",
              "      <th>AirPollution</th>\n",
              "      <th>Lexpectancy</th>\n",
              "      <th>HFC</th>\n",
              "      <th>BasicWater</th>\n",
              "      <th>GHEmissions</th>\n",
              "      <th>ElecPowCons</th>\n",
              "      <th>Year</th>\n",
              "    </tr>\n",
              "  </thead>\n",
              "  <tbody>\n",
              "    <tr>\n",
              "      <th>42</th>\n",
              "      <td>Georgia</td>\n",
              "      <td>Europe</td>\n",
              "      <td>40.615915</td>\n",
              "      <td>6314.574</td>\n",
              "      <td>55.535</td>\n",
              "      <td>100.0</td>\n",
              "      <td>71.5</td>\n",
              "      <td>20.0</td>\n",
              "      <td>95.736822</td>\n",
              "      <td>13108.623765</td>\n",
              "      <td>2049.544524</td>\n",
              "      <td>2010</td>\n",
              "    </tr>\n",
              "    <tr>\n",
              "      <th>173</th>\n",
              "      <td>Georgia</td>\n",
              "      <td>Europe</td>\n",
              "      <td>40.615915</td>\n",
              "      <td>10128.254</td>\n",
              "      <td>57.837</td>\n",
              "      <td>100.0</td>\n",
              "      <td>73.207</td>\n",
              "      <td>NaN</td>\n",
              "      <td>98.170550</td>\n",
              "      <td>NaN</td>\n",
              "      <td>NaN</td>\n",
              "      <td>2016</td>\n",
              "    </tr>\n",
              "  </tbody>\n",
              "</table>\n",
              "</div>"
            ],
            "text/plain": [
              "     Country Continent  ForestArea  ...   GHEmissions  ElecPowCons  Year\n",
              "42   Georgia    Europe   40.615915  ...  13108.623765  2049.544524  2010\n",
              "173  Georgia    Europe   40.615915  ...           NaN          NaN  2016\n",
              "\n",
              "[2 rows x 12 columns]"
            ]
          },
          "metadata": {
            "tags": []
          },
          "execution_count": 15
        }
      ]
    },
    {
      "cell_type": "code",
      "metadata": {
        "colab": {
          "base_uri": "https://localhost:8080/"
        },
        "id": "tlYvD37ybm6Z",
        "outputId": "d64f7aaa-c4de-42c8-e70b-7dab6f298962"
      },
      "source": [
        "lexp['Lexpectancy'] = lexp['Lexpectancy'].astype('float64')\n",
        "lexp.dtypes"
      ],
      "execution_count": null,
      "outputs": [
        {
          "output_type": "execute_result",
          "data": {
            "text/plain": [
              "Country          object\n",
              "Continent        object\n",
              "ForestArea      float64\n",
              "CO2Emissions    float64\n",
              "UrbanPop        float64\n",
              "AirPollution    float64\n",
              "Lexpectancy     float64\n",
              "HFC             float64\n",
              "BasicWater      float64\n",
              "GHEmissions     float64\n",
              "ElecPowCons     float64\n",
              "Year              int64\n",
              "dtype: object"
            ]
          },
          "metadata": {
            "tags": []
          },
          "execution_count": 16
        }
      ]
    },
    {
      "cell_type": "markdown",
      "metadata": {
        "id": "aIiRbju_ohdU"
      },
      "source": [
        "# <font color = \"Red\"> Questions</font>"
      ]
    },
    {
      "cell_type": "markdown",
      "metadata": {
        "id": "2kxyfBuvB62F"
      },
      "source": [
        "For the model building below, and unless specified, use only the data from year 2010."
      ]
    },
    {
      "cell_type": "markdown",
      "metadata": {
        "id": "Kv6s5zAfohfi"
      },
      "source": [
        "## 1.- <font color = \"MediumBlue\"> Multicollinearity </font>\n",
        "\n",
        "**Before building our model, let's check if there may be problems with collinearity between some of the variables in order to decide which of them we should or should not include in our model. Then considering our dependent variable as `LExpectancy`, then**\n",
        "\n",
        " * **Find the Correlation matrix**\n",
        " * **Find the VIFs of the different variables**\n",
        " * **Make a pairsplot (optional, but here use the continent as the hue color)**\n",
        " \n",
        "**Explain which method you chose and why. Then with this information explain if you can use all the variables for the models or you may drop any of them.**"
      ]
    },
    {
      "cell_type": "markdown",
      "metadata": {
        "id": "gmBk6VWbTxWx"
      },
      "source": [
        "Let's first find the correlation matrix"
      ]
    },
    {
      "cell_type": "code",
      "metadata": {
        "id": "pX4Nmrkaohfk",
        "colab": {
          "base_uri": "https://localhost:8080/",
          "height": 198
        },
        "outputId": "926b251b-5228-4ede-cd58-c3a78d7ea1dd"
      },
      "source": [
        "corr_df = lexp[lexp['Year']==2010].drop(['Country', 'Continent', 'Year', 'Lexpectancy'], axis=1).corr()\n",
        "corr_df.style.background_gradient(cmap='coolwarm', axis=1).set_precision(4)"
      ],
      "execution_count": null,
      "outputs": [
        {
          "output_type": "execute_result",
          "data": {
            "text/html": [
              "<style  type=\"text/css\" >\n",
              "#T_49d38492_d1e4_11eb_9700_0242ac1c0002row0_col0,#T_49d38492_d1e4_11eb_9700_0242ac1c0002row1_col1,#T_49d38492_d1e4_11eb_9700_0242ac1c0002row2_col2,#T_49d38492_d1e4_11eb_9700_0242ac1c0002row3_col3,#T_49d38492_d1e4_11eb_9700_0242ac1c0002row4_col4,#T_49d38492_d1e4_11eb_9700_0242ac1c0002row5_col5,#T_49d38492_d1e4_11eb_9700_0242ac1c0002row6_col6,#T_49d38492_d1e4_11eb_9700_0242ac1c0002row7_col7{\n",
              "            background-color:  #b40426;\n",
              "            color:  #f1f1f1;\n",
              "        }#T_49d38492_d1e4_11eb_9700_0242ac1c0002row0_col1{\n",
              "            background-color:  #7093f3;\n",
              "            color:  #000000;\n",
              "        }#T_49d38492_d1e4_11eb_9700_0242ac1c0002row0_col2{\n",
              "            background-color:  #6f92f3;\n",
              "            color:  #000000;\n",
              "        }#T_49d38492_d1e4_11eb_9700_0242ac1c0002row0_col3,#T_49d38492_d1e4_11eb_9700_0242ac1c0002row1_col3,#T_49d38492_d1e4_11eb_9700_0242ac1c0002row2_col3,#T_49d38492_d1e4_11eb_9700_0242ac1c0002row3_col7,#T_49d38492_d1e4_11eb_9700_0242ac1c0002row4_col3,#T_49d38492_d1e4_11eb_9700_0242ac1c0002row5_col3,#T_49d38492_d1e4_11eb_9700_0242ac1c0002row6_col3,#T_49d38492_d1e4_11eb_9700_0242ac1c0002row7_col3{\n",
              "            background-color:  #3b4cc0;\n",
              "            color:  #f1f1f1;\n",
              "        }#T_49d38492_d1e4_11eb_9700_0242ac1c0002row0_col4,#T_49d38492_d1e4_11eb_9700_0242ac1c0002row0_col6{\n",
              "            background-color:  #7b9ff9;\n",
              "            color:  #000000;\n",
              "        }#T_49d38492_d1e4_11eb_9700_0242ac1c0002row0_col5{\n",
              "            background-color:  #5d7ce6;\n",
              "            color:  #000000;\n",
              "        }#T_49d38492_d1e4_11eb_9700_0242ac1c0002row0_col7{\n",
              "            background-color:  #5e7de7;\n",
              "            color:  #000000;\n",
              "        }#T_49d38492_d1e4_11eb_9700_0242ac1c0002row1_col0,#T_49d38492_d1e4_11eb_9700_0242ac1c0002row6_col2{\n",
              "            background-color:  #4f69d9;\n",
              "            color:  #000000;\n",
              "        }#T_49d38492_d1e4_11eb_9700_0242ac1c0002row1_col2,#T_49d38492_d1e4_11eb_9700_0242ac1c0002row6_col0{\n",
              "            background-color:  #5875e1;\n",
              "            color:  #000000;\n",
              "        }#T_49d38492_d1e4_11eb_9700_0242ac1c0002row1_col4{\n",
              "            background-color:  #dc5d4a;\n",
              "            color:  #000000;\n",
              "        }#T_49d38492_d1e4_11eb_9700_0242ac1c0002row1_col5{\n",
              "            background-color:  #688aef;\n",
              "            color:  #000000;\n",
              "        }#T_49d38492_d1e4_11eb_9700_0242ac1c0002row1_col6,#T_49d38492_d1e4_11eb_9700_0242ac1c0002row6_col1{\n",
              "            background-color:  #ba162b;\n",
              "            color:  #f1f1f1;\n",
              "        }#T_49d38492_d1e4_11eb_9700_0242ac1c0002row1_col7{\n",
              "            background-color:  #6485ec;\n",
              "            color:  #000000;\n",
              "        }#T_49d38492_d1e4_11eb_9700_0242ac1c0002row2_col0{\n",
              "            background-color:  #81a4fb;\n",
              "            color:  #000000;\n",
              "        }#T_49d38492_d1e4_11eb_9700_0242ac1c0002row2_col1,#T_49d38492_d1e4_11eb_9700_0242ac1c0002row3_col0{\n",
              "            background-color:  #8badfd;\n",
              "            color:  #000000;\n",
              "        }#T_49d38492_d1e4_11eb_9700_0242ac1c0002row2_col4{\n",
              "            background-color:  #98b9ff;\n",
              "            color:  #000000;\n",
              "        }#T_49d38492_d1e4_11eb_9700_0242ac1c0002row2_col5{\n",
              "            background-color:  #f7a889;\n",
              "            color:  #000000;\n",
              "        }#T_49d38492_d1e4_11eb_9700_0242ac1c0002row2_col6{\n",
              "            background-color:  #85a8fc;\n",
              "            color:  #000000;\n",
              "        }#T_49d38492_d1e4_11eb_9700_0242ac1c0002row2_col7{\n",
              "            background-color:  #f5c1a9;\n",
              "            color:  #000000;\n",
              "        }#T_49d38492_d1e4_11eb_9700_0242ac1c0002row3_col1{\n",
              "            background-color:  #a7c5fe;\n",
              "            color:  #000000;\n",
              "        }#T_49d38492_d1e4_11eb_9700_0242ac1c0002row3_col2{\n",
              "            background-color:  #799cf8;\n",
              "            color:  #000000;\n",
              "        }#T_49d38492_d1e4_11eb_9700_0242ac1c0002row3_col4{\n",
              "            background-color:  #93b5fe;\n",
              "            color:  #000000;\n",
              "        }#T_49d38492_d1e4_11eb_9700_0242ac1c0002row3_col5,#T_49d38492_d1e4_11eb_9700_0242ac1c0002row5_col6{\n",
              "            background-color:  #84a7fc;\n",
              "            color:  #000000;\n",
              "        }#T_49d38492_d1e4_11eb_9700_0242ac1c0002row3_col6,#T_49d38492_d1e4_11eb_9700_0242ac1c0002row7_col0{\n",
              "            background-color:  #a9c6fd;\n",
              "            color:  #000000;\n",
              "        }#T_49d38492_d1e4_11eb_9700_0242ac1c0002row4_col0{\n",
              "            background-color:  #7295f4;\n",
              "            color:  #000000;\n",
              "        }#T_49d38492_d1e4_11eb_9700_0242ac1c0002row4_col1{\n",
              "            background-color:  #d85646;\n",
              "            color:  #000000;\n",
              "        }#T_49d38492_d1e4_11eb_9700_0242ac1c0002row4_col2{\n",
              "            background-color:  #80a3fa;\n",
              "            color:  #000000;\n",
              "        }#T_49d38492_d1e4_11eb_9700_0242ac1c0002row4_col5{\n",
              "            background-color:  #82a6fb;\n",
              "            color:  #000000;\n",
              "        }#T_49d38492_d1e4_11eb_9700_0242ac1c0002row4_col6{\n",
              "            background-color:  #e0654f;\n",
              "            color:  #000000;\n",
              "        }#T_49d38492_d1e4_11eb_9700_0242ac1c0002row4_col7{\n",
              "            background-color:  #8fb1fe;\n",
              "            color:  #000000;\n",
              "        }#T_49d38492_d1e4_11eb_9700_0242ac1c0002row5_col0{\n",
              "            background-color:  #6384eb;\n",
              "            color:  #000000;\n",
              "        }#T_49d38492_d1e4_11eb_9700_0242ac1c0002row5_col1{\n",
              "            background-color:  #90b2fe;\n",
              "            color:  #000000;\n",
              "        }#T_49d38492_d1e4_11eb_9700_0242ac1c0002row5_col2{\n",
              "            background-color:  #f7ac8e;\n",
              "            color:  #000000;\n",
              "        }#T_49d38492_d1e4_11eb_9700_0242ac1c0002row5_col4{\n",
              "            background-color:  #92b4fe;\n",
              "            color:  #000000;\n",
              "        }#T_49d38492_d1e4_11eb_9700_0242ac1c0002row5_col7{\n",
              "            background-color:  #e1dad6;\n",
              "            color:  #000000;\n",
              "        }#T_49d38492_d1e4_11eb_9700_0242ac1c0002row6_col4{\n",
              "            background-color:  #e36b54;\n",
              "            color:  #000000;\n",
              "        }#T_49d38492_d1e4_11eb_9700_0242ac1c0002row6_col5,#T_49d38492_d1e4_11eb_9700_0242ac1c0002row6_col7{\n",
              "            background-color:  #5a78e4;\n",
              "            color:  #000000;\n",
              "        }#T_49d38492_d1e4_11eb_9700_0242ac1c0002row7_col1{\n",
              "            background-color:  #c5d6f2;\n",
              "            color:  #000000;\n",
              "        }#T_49d38492_d1e4_11eb_9700_0242ac1c0002row7_col2{\n",
              "            background-color:  #f7aa8c;\n",
              "            color:  #000000;\n",
              "        }#T_49d38492_d1e4_11eb_9700_0242ac1c0002row7_col4{\n",
              "            background-color:  #d1dae9;\n",
              "            color:  #000000;\n",
              "        }#T_49d38492_d1e4_11eb_9700_0242ac1c0002row7_col5{\n",
              "            background-color:  #f5c4ac;\n",
              "            color:  #000000;\n",
              "        }#T_49d38492_d1e4_11eb_9700_0242ac1c0002row7_col6{\n",
              "            background-color:  #c0d4f5;\n",
              "            color:  #000000;\n",
              "        }</style><table id=\"T_49d38492_d1e4_11eb_9700_0242ac1c0002\" ><thead>    <tr>        <th class=\"blank level0\" ></th>        <th class=\"col_heading level0 col0\" >ForestArea</th>        <th class=\"col_heading level0 col1\" >CO2Emissions</th>        <th class=\"col_heading level0 col2\" >UrbanPop</th>        <th class=\"col_heading level0 col3\" >AirPollution</th>        <th class=\"col_heading level0 col4\" >HFC</th>        <th class=\"col_heading level0 col5\" >BasicWater</th>        <th class=\"col_heading level0 col6\" >GHEmissions</th>        <th class=\"col_heading level0 col7\" >ElecPowCons</th>    </tr></thead><tbody>\n",
              "                <tr>\n",
              "                        <th id=\"T_49d38492_d1e4_11eb_9700_0242ac1c0002level0_row0\" class=\"row_heading level0 row0\" >ForestArea</th>\n",
              "                        <td id=\"T_49d38492_d1e4_11eb_9700_0242ac1c0002row0_col0\" class=\"data row0 col0\" >1.0000</td>\n",
              "                        <td id=\"T_49d38492_d1e4_11eb_9700_0242ac1c0002row0_col1\" class=\"data row0 col1\" >-0.0027</td>\n",
              "                        <td id=\"T_49d38492_d1e4_11eb_9700_0242ac1c0002row0_col2\" class=\"data row0 col2\" >-0.0067</td>\n",
              "                        <td id=\"T_49d38492_d1e4_11eb_9700_0242ac1c0002row0_col3\" class=\"data row0 col3\" >-0.2062</td>\n",
              "                        <td id=\"T_49d38492_d1e4_11eb_9700_0242ac1c0002row0_col4\" class=\"data row0 col4\" >0.0350</td>\n",
              "                        <td id=\"T_49d38492_d1e4_11eb_9700_0242ac1c0002row0_col5\" class=\"data row0 col5\" >-0.0736</td>\n",
              "                        <td id=\"T_49d38492_d1e4_11eb_9700_0242ac1c0002row0_col6\" class=\"data row0 col6\" >0.0371</td>\n",
              "                        <td id=\"T_49d38492_d1e4_11eb_9700_0242ac1c0002row0_col7\" class=\"data row0 col7\" >-0.0662</td>\n",
              "            </tr>\n",
              "            <tr>\n",
              "                        <th id=\"T_49d38492_d1e4_11eb_9700_0242ac1c0002level0_row1\" class=\"row_heading level0 row1\" >CO2Emissions</th>\n",
              "                        <td id=\"T_49d38492_d1e4_11eb_9700_0242ac1c0002row1_col0\" class=\"data row1 col0\" >-0.0027</td>\n",
              "                        <td id=\"T_49d38492_d1e4_11eb_9700_0242ac1c0002row1_col1\" class=\"data row1 col1\" >1.0000</td>\n",
              "                        <td id=\"T_49d38492_d1e4_11eb_9700_0242ac1c0002row1_col2\" class=\"data row1 col2\" >0.0296</td>\n",
              "                        <td id=\"T_49d38492_d1e4_11eb_9700_0242ac1c0002row1_col3\" class=\"data row1 col3\" >-0.0743</td>\n",
              "                        <td id=\"T_49d38492_d1e4_11eb_9700_0242ac1c0002row1_col4\" class=\"data row1 col4\" >0.8735</td>\n",
              "                        <td id=\"T_49d38492_d1e4_11eb_9700_0242ac1c0002row1_col5\" class=\"data row1 col5\" >0.0842</td>\n",
              "                        <td id=\"T_49d38492_d1e4_11eb_9700_0242ac1c0002row1_col6\" class=\"data row1 col6\" >0.9803</td>\n",
              "                        <td id=\"T_49d38492_d1e4_11eb_9700_0242ac1c0002row1_col7\" class=\"data row1 col7\" >0.0711</td>\n",
              "            </tr>\n",
              "            <tr>\n",
              "                        <th id=\"T_49d38492_d1e4_11eb_9700_0242ac1c0002level0_row2\" class=\"row_heading level0 row2\" >UrbanPop</th>\n",
              "                        <td id=\"T_49d38492_d1e4_11eb_9700_0242ac1c0002row2_col0\" class=\"data row2 col0\" >-0.0067</td>\n",
              "                        <td id=\"T_49d38492_d1e4_11eb_9700_0242ac1c0002row2_col1\" class=\"data row2 col1\" >0.0296</td>\n",
              "                        <td id=\"T_49d38492_d1e4_11eb_9700_0242ac1c0002row2_col2\" class=\"data row2 col2\" >1.0000</td>\n",
              "                        <td id=\"T_49d38492_d1e4_11eb_9700_0242ac1c0002row2_col3\" class=\"data row2 col3\" >-0.2835</td>\n",
              "                        <td id=\"T_49d38492_d1e4_11eb_9700_0242ac1c0002row2_col4\" class=\"data row2 col4\" >0.0818</td>\n",
              "                        <td id=\"T_49d38492_d1e4_11eb_9700_0242ac1c0002row2_col5\" class=\"data row2 col5\" >0.6313</td>\n",
              "                        <td id=\"T_49d38492_d1e4_11eb_9700_0242ac1c0002row2_col6\" class=\"data row2 col6\" >0.0094</td>\n",
              "                        <td id=\"T_49d38492_d1e4_11eb_9700_0242ac1c0002row2_col7\" class=\"data row2 col7\" >0.5326</td>\n",
              "            </tr>\n",
              "            <tr>\n",
              "                        <th id=\"T_49d38492_d1e4_11eb_9700_0242ac1c0002level0_row3\" class=\"row_heading level0 row3\" >AirPollution</th>\n",
              "                        <td id=\"T_49d38492_d1e4_11eb_9700_0242ac1c0002row3_col0\" class=\"data row3 col0\" >-0.2062</td>\n",
              "                        <td id=\"T_49d38492_d1e4_11eb_9700_0242ac1c0002row3_col1\" class=\"data row3 col1\" >-0.0743</td>\n",
              "                        <td id=\"T_49d38492_d1e4_11eb_9700_0242ac1c0002row3_col2\" class=\"data row3 col2\" >-0.2835</td>\n",
              "                        <td id=\"T_49d38492_d1e4_11eb_9700_0242ac1c0002row3_col3\" class=\"data row3 col3\" >1.0000</td>\n",
              "                        <td id=\"T_49d38492_d1e4_11eb_9700_0242ac1c0002row3_col4\" class=\"data row3 col4\" >-0.1692</td>\n",
              "                        <td id=\"T_49d38492_d1e4_11eb_9700_0242ac1c0002row3_col5\" class=\"data row3 col5\" >-0.2361</td>\n",
              "                        <td id=\"T_49d38492_d1e4_11eb_9700_0242ac1c0002row3_col6\" class=\"data row3 col6\" >-0.0653</td>\n",
              "                        <td id=\"T_49d38492_d1e4_11eb_9700_0242ac1c0002row3_col7\" class=\"data row3 col7\" >-0.5927</td>\n",
              "            </tr>\n",
              "            <tr>\n",
              "                        <th id=\"T_49d38492_d1e4_11eb_9700_0242ac1c0002level0_row4\" class=\"row_heading level0 row4\" >HFC</th>\n",
              "                        <td id=\"T_49d38492_d1e4_11eb_9700_0242ac1c0002row4_col0\" class=\"data row4 col0\" >0.0350</td>\n",
              "                        <td id=\"T_49d38492_d1e4_11eb_9700_0242ac1c0002row4_col1\" class=\"data row4 col1\" >0.8735</td>\n",
              "                        <td id=\"T_49d38492_d1e4_11eb_9700_0242ac1c0002row4_col2\" class=\"data row4 col2\" >0.0818</td>\n",
              "                        <td id=\"T_49d38492_d1e4_11eb_9700_0242ac1c0002row4_col3\" class=\"data row4 col3\" >-0.1692</td>\n",
              "                        <td id=\"T_49d38492_d1e4_11eb_9700_0242ac1c0002row4_col4\" class=\"data row4 col4\" >1.0000</td>\n",
              "                        <td id=\"T_49d38492_d1e4_11eb_9700_0242ac1c0002row4_col5\" class=\"data row4 col5\" >0.0902</td>\n",
              "                        <td id=\"T_49d38492_d1e4_11eb_9700_0242ac1c0002row4_col6\" class=\"data row4 col6\" >0.8427</td>\n",
              "                        <td id=\"T_49d38492_d1e4_11eb_9700_0242ac1c0002row4_col7\" class=\"data row4 col7\" >0.1315</td>\n",
              "            </tr>\n",
              "            <tr>\n",
              "                        <th id=\"T_49d38492_d1e4_11eb_9700_0242ac1c0002level0_row5\" class=\"row_heading level0 row5\" >BasicWater</th>\n",
              "                        <td id=\"T_49d38492_d1e4_11eb_9700_0242ac1c0002row5_col0\" class=\"data row5 col0\" >-0.0736</td>\n",
              "                        <td id=\"T_49d38492_d1e4_11eb_9700_0242ac1c0002row5_col1\" class=\"data row5 col1\" >0.0842</td>\n",
              "                        <td id=\"T_49d38492_d1e4_11eb_9700_0242ac1c0002row5_col2\" class=\"data row5 col2\" >0.6313</td>\n",
              "                        <td id=\"T_49d38492_d1e4_11eb_9700_0242ac1c0002row5_col3\" class=\"data row5 col3\" >-0.2361</td>\n",
              "                        <td id=\"T_49d38492_d1e4_11eb_9700_0242ac1c0002row5_col4\" class=\"data row5 col4\" >0.0902</td>\n",
              "                        <td id=\"T_49d38492_d1e4_11eb_9700_0242ac1c0002row5_col5\" class=\"data row5 col5\" >1.0000</td>\n",
              "                        <td id=\"T_49d38492_d1e4_11eb_9700_0242ac1c0002row5_col6\" class=\"data row5 col6\" >0.0430</td>\n",
              "                        <td id=\"T_49d38492_d1e4_11eb_9700_0242ac1c0002row5_col7\" class=\"data row5 col7\" >0.4056</td>\n",
              "            </tr>\n",
              "            <tr>\n",
              "                        <th id=\"T_49d38492_d1e4_11eb_9700_0242ac1c0002level0_row6\" class=\"row_heading level0 row6\" >GHEmissions</th>\n",
              "                        <td id=\"T_49d38492_d1e4_11eb_9700_0242ac1c0002row6_col0\" class=\"data row6 col0\" >0.0371</td>\n",
              "                        <td id=\"T_49d38492_d1e4_11eb_9700_0242ac1c0002row6_col1\" class=\"data row6 col1\" >0.9803</td>\n",
              "                        <td id=\"T_49d38492_d1e4_11eb_9700_0242ac1c0002row6_col2\" class=\"data row6 col2\" >0.0094</td>\n",
              "                        <td id=\"T_49d38492_d1e4_11eb_9700_0242ac1c0002row6_col3\" class=\"data row6 col3\" >-0.0653</td>\n",
              "                        <td id=\"T_49d38492_d1e4_11eb_9700_0242ac1c0002row6_col4\" class=\"data row6 col4\" >0.8427</td>\n",
              "                        <td id=\"T_49d38492_d1e4_11eb_9700_0242ac1c0002row6_col5\" class=\"data row6 col5\" >0.0430</td>\n",
              "                        <td id=\"T_49d38492_d1e4_11eb_9700_0242ac1c0002row6_col6\" class=\"data row6 col6\" >1.0000</td>\n",
              "                        <td id=\"T_49d38492_d1e4_11eb_9700_0242ac1c0002row6_col7\" class=\"data row6 col7\" >0.0433</td>\n",
              "            </tr>\n",
              "            <tr>\n",
              "                        <th id=\"T_49d38492_d1e4_11eb_9700_0242ac1c0002level0_row7\" class=\"row_heading level0 row7\" >ElecPowCons</th>\n",
              "                        <td id=\"T_49d38492_d1e4_11eb_9700_0242ac1c0002row7_col0\" class=\"data row7 col0\" >-0.0662</td>\n",
              "                        <td id=\"T_49d38492_d1e4_11eb_9700_0242ac1c0002row7_col1\" class=\"data row7 col1\" >0.0711</td>\n",
              "                        <td id=\"T_49d38492_d1e4_11eb_9700_0242ac1c0002row7_col2\" class=\"data row7 col2\" >0.5326</td>\n",
              "                        <td id=\"T_49d38492_d1e4_11eb_9700_0242ac1c0002row7_col3\" class=\"data row7 col3\" >-0.5927</td>\n",
              "                        <td id=\"T_49d38492_d1e4_11eb_9700_0242ac1c0002row7_col4\" class=\"data row7 col4\" >0.1315</td>\n",
              "                        <td id=\"T_49d38492_d1e4_11eb_9700_0242ac1c0002row7_col5\" class=\"data row7 col5\" >0.4056</td>\n",
              "                        <td id=\"T_49d38492_d1e4_11eb_9700_0242ac1c0002row7_col6\" class=\"data row7 col6\" >0.0433</td>\n",
              "                        <td id=\"T_49d38492_d1e4_11eb_9700_0242ac1c0002row7_col7\" class=\"data row7 col7\" >1.0000</td>\n",
              "            </tr>\n",
              "    </tbody></table>"
            ],
            "text/plain": [
              "<pandas.io.formats.style.Styler at 0x7fa033d0c710>"
            ]
          },
          "metadata": {
            "tags": []
          },
          "execution_count": 17
        }
      ]
    },
    {
      "cell_type": "markdown",
      "metadata": {
        "id": "VNR8dLbnT0eP"
      },
      "source": [
        "now we can fidn the variance inflation factors as"
      ]
    },
    {
      "cell_type": "code",
      "metadata": {
        "colab": {
          "base_uri": "https://localhost:8080/"
        },
        "id": "JrpGbqNITmzK",
        "outputId": "8b791876-6dcd-47f8-c87f-1d26f7ace240"
      },
      "source": [
        "X = lexp.drop(['Country', 'Continent', 'Year', 'Lexpectancy'], axis=1)\n",
        "X['Intercept'] = 1\n",
        "\n",
        "vif = pd.DataFrame()\n",
        "vif['variables'] = X.columns\n",
        "vif['VIF'] = [variance_inflation_factor(X.dropna().values, i)for i in range(X.shape[1])]\n",
        "\n",
        "print(vif)"
      ],
      "execution_count": null,
      "outputs": [
        {
          "output_type": "stream",
          "text": [
            "      variables        VIF\n",
            "0    ForestArea   1.151894\n",
            "1  CO2Emissions  36.871465\n",
            "2      UrbanPop   2.056866\n",
            "3  AirPollution   1.748453\n",
            "4           HFC   4.725180\n",
            "5    BasicWater   1.775019\n",
            "6   GHEmissions  29.381345\n",
            "7   ElecPowCons   2.131199\n",
            "8     Intercept  79.030973\n"
          ],
          "name": "stdout"
        }
      ]
    },
    {
      "cell_type": "markdown",
      "metadata": {
        "id": "Gyf6b34AT3vV"
      },
      "source": [
        "in both cases we see that we may drop either the CO2 emissions or the GH emissions since both are highly correlated (basically because the GH emissions are mainly driven by CO2), then we will drop `GHEmissions` from the model"
      ]
    },
    {
      "cell_type": "markdown",
      "metadata": {
        "id": "u0byVF8dohfr"
      },
      "source": [
        "## 2.- <font color = \"MediumBlue\"> Modelization </font>\n",
        "\n",
        "**Without using the categorical variable of the continent, find the best possible linear model that may let you explain the variability of the life expectancy as a function of the other variables. Write the model in the following cell code, then answer the questions below**\n"
      ]
    },
    {
      "cell_type": "markdown",
      "metadata": {
        "id": "Yyjb40n0VdJO"
      },
      "source": [
        "For this model we are going to use a deletion approach to NAs since we don't see any problem with the data itself that may force us to not having it, therefore we assume that the NAs are random"
      ]
    },
    {
      "cell_type": "code",
      "metadata": {
        "colab": {
          "base_uri": "https://localhost:8080/",
          "height": 197
        },
        "id": "gQlce9Y2U4A9",
        "outputId": "edef2e1d-21c9-4f98-fe05-6d84a4eb15b3"
      },
      "source": [
        "lexp_2010 = lexp[lexp['Year'] == 2010].dropna()\n",
        "lexp_2010.head()"
      ],
      "execution_count": null,
      "outputs": [
        {
          "output_type": "execute_result",
          "data": {
            "text/html": [
              "<div>\n",
              "<style scoped>\n",
              "    .dataframe tbody tr th:only-of-type {\n",
              "        vertical-align: middle;\n",
              "    }\n",
              "\n",
              "    .dataframe tbody tr th {\n",
              "        vertical-align: top;\n",
              "    }\n",
              "\n",
              "    .dataframe thead th {\n",
              "        text-align: right;\n",
              "    }\n",
              "</style>\n",
              "<table border=\"1\" class=\"dataframe\">\n",
              "  <thead>\n",
              "    <tr style=\"text-align: right;\">\n",
              "      <th></th>\n",
              "      <th>Country</th>\n",
              "      <th>Continent</th>\n",
              "      <th>ForestArea</th>\n",
              "      <th>CO2Emissions</th>\n",
              "      <th>UrbanPop</th>\n",
              "      <th>AirPollution</th>\n",
              "      <th>Lexpectancy</th>\n",
              "      <th>HFC</th>\n",
              "      <th>BasicWater</th>\n",
              "      <th>GHEmissions</th>\n",
              "      <th>ElecPowCons</th>\n",
              "      <th>Year</th>\n",
              "    </tr>\n",
              "  </thead>\n",
              "  <tbody>\n",
              "    <tr>\n",
              "      <th>0</th>\n",
              "      <td>Albania</td>\n",
              "      <td>Europe</td>\n",
              "      <td>28.332116</td>\n",
              "      <td>4598.418</td>\n",
              "      <td>52.163</td>\n",
              "      <td>100.000000</td>\n",
              "      <td>76.562</td>\n",
              "      <td>105.0</td>\n",
              "      <td>87.811285</td>\n",
              "      <td>8506.996034</td>\n",
              "      <td>1943.343354</td>\n",
              "      <td>2010</td>\n",
              "    </tr>\n",
              "    <tr>\n",
              "      <th>1</th>\n",
              "      <td>Algeria</td>\n",
              "      <td>Africa</td>\n",
              "      <td>0.805294</td>\n",
              "      <td>119177.500</td>\n",
              "      <td>67.540</td>\n",
              "      <td>100.000000</td>\n",
              "      <td>74.938</td>\n",
              "      <td>275.0</td>\n",
              "      <td>92.389465</td>\n",
              "      <td>167674.633001</td>\n",
              "      <td>1016.636669</td>\n",
              "      <td>2010</td>\n",
              "    </tr>\n",
              "    <tr>\n",
              "      <th>2</th>\n",
              "      <td>Angola</td>\n",
              "      <td>Africa</td>\n",
              "      <td>46.907837</td>\n",
              "      <td>29057.308</td>\n",
              "      <td>59.783</td>\n",
              "      <td>100.000000</td>\n",
              "      <td>55.350</td>\n",
              "      <td>31.0</td>\n",
              "      <td>50.376841</td>\n",
              "      <td>40029.392101</td>\n",
              "      <td>206.454411</td>\n",
              "      <td>2010</td>\n",
              "    </tr>\n",
              "    <tr>\n",
              "      <th>3</th>\n",
              "      <td>Argentina</td>\n",
              "      <td>America</td>\n",
              "      <td>10.449119</td>\n",
              "      <td>187904.414</td>\n",
              "      <td>90.849</td>\n",
              "      <td>99.447641</td>\n",
              "      <td>75.278</td>\n",
              "      <td>506.0</td>\n",
              "      <td>98.468054</td>\n",
              "      <td>364684.253846</td>\n",
              "      <td>2877.652653</td>\n",
              "      <td>2010</td>\n",
              "    </tr>\n",
              "    <tr>\n",
              "      <th>4</th>\n",
              "      <td>Armenia</td>\n",
              "      <td>Europe</td>\n",
              "      <td>11.626273</td>\n",
              "      <td>4209.716</td>\n",
              "      <td>63.440</td>\n",
              "      <td>100.000000</td>\n",
              "      <td>73.331</td>\n",
              "      <td>565.0</td>\n",
              "      <td>98.266056</td>\n",
              "      <td>11393.039353</td>\n",
              "      <td>1726.259758</td>\n",
              "      <td>2010</td>\n",
              "    </tr>\n",
              "  </tbody>\n",
              "</table>\n",
              "</div>"
            ],
            "text/plain": [
              "     Country Continent  ForestArea  ...    GHEmissions  ElecPowCons  Year\n",
              "0    Albania    Europe   28.332116  ...    8506.996034  1943.343354  2010\n",
              "1    Algeria    Africa    0.805294  ...  167674.633001  1016.636669  2010\n",
              "2     Angola    Africa   46.907837  ...   40029.392101   206.454411  2010\n",
              "3  Argentina   America   10.449119  ...  364684.253846  2877.652653  2010\n",
              "4    Armenia    Europe   11.626273  ...   11393.039353  1726.259758  2010\n",
              "\n",
              "[5 rows x 12 columns]"
            ]
          },
          "metadata": {
            "tags": []
          },
          "execution_count": 19
        }
      ]
    },
    {
      "cell_type": "markdown",
      "metadata": {
        "id": "oYkHtyvnVr9C"
      },
      "source": [
        "Then we are left with 122 observations and 12 variables (for year 2010)"
      ]
    },
    {
      "cell_type": "code",
      "metadata": {
        "colab": {
          "base_uri": "https://localhost:8080/"
        },
        "id": "u68YtalkVw8k",
        "outputId": "d542339c-6b41-4210-efdd-fb5030a8dbf8"
      },
      "source": [
        "lexp_2010.shape"
      ],
      "execution_count": null,
      "outputs": [
        {
          "output_type": "execute_result",
          "data": {
            "text/plain": [
              "(122, 12)"
            ]
          },
          "metadata": {
            "tags": []
          },
          "execution_count": 20
        }
      ]
    },
    {
      "cell_type": "markdown",
      "metadata": {
        "id": "nyDjP9mvcksZ"
      },
      "source": [
        "Then the final model we obtain is the following"
      ]
    },
    {
      "cell_type": "code",
      "metadata": {
        "id": "PYVxYzB0ohfx",
        "colab": {
          "base_uri": "https://localhost:8080/"
        },
        "outputId": "9ab17442-e288-4628-8488-b13ae858ae70"
      },
      "source": [
        "model = ols('Lexpectancy ~ BasicWater + ElecPowCons', data = lexp_2010).fit()\n",
        "print(model.summary())"
      ],
      "execution_count": null,
      "outputs": [
        {
          "output_type": "stream",
          "text": [
            "                            OLS Regression Results                            \n",
            "==============================================================================\n",
            "Dep. Variable:            Lexpectancy   R-squared:                       0.728\n",
            "Model:                            OLS   Adj. R-squared:                  0.724\n",
            "Method:                 Least Squares   F-statistic:                     159.3\n",
            "Date:                Sun, 20 Jun 2021   Prob (F-statistic):           2.23e-34\n",
            "Time:                        16:28:49   Log-Likelihood:                -342.75\n",
            "No. Observations:                 122   AIC:                             691.5\n",
            "Df Residuals:                     119   BIC:                             699.9\n",
            "Df Model:                           2                                         \n",
            "Covariance Type:            nonrobust                                         \n",
            "===============================================================================\n",
            "                  coef    std err          t      P>|t|      [0.025      0.975]\n",
            "-------------------------------------------------------------------------------\n",
            "Intercept      37.4085      2.281     16.401      0.000      32.892      41.925\n",
            "BasicWater      0.3788      0.026     14.331      0.000       0.326       0.431\n",
            "ElecPowCons     0.0003   6.43e-05      3.892      0.000       0.000       0.000\n",
            "==============================================================================\n",
            "Omnibus:                        5.999   Durbin-Watson:                   1.887\n",
            "Prob(Omnibus):                  0.050   Jarque-Bera (JB):                5.626\n",
            "Skew:                          -0.421   Prob(JB):                       0.0600\n",
            "Kurtosis:                       3.632   Cond. No.                     4.74e+04\n",
            "==============================================================================\n",
            "\n",
            "Warnings:\n",
            "[1] Standard Errors assume that the covariance matrix of the errors is correctly specified.\n",
            "[2] The condition number is large, 4.74e+04. This might indicate that there are\n",
            "strong multicollinearity or other numerical problems.\n"
          ],
          "name": "stdout"
        }
      ]
    },
    {
      "cell_type": "markdown",
      "metadata": {
        "id": "_i1AZvDiohf4"
      },
      "source": [
        "### 2.1  <font color = \"Blue\"> Model Selection </font>\n",
        "\n",
        "**How did you choose between different models? (Give a qualitative explanation)** \n"
      ]
    },
    {
      "cell_type": "markdown",
      "metadata": {
        "id": "eeniLc5mdKsr"
      },
      "source": [
        "The first step has been a selection on variables based on the correlation and VIF (as can be seen in the multicollinearity section). The second part, maybe a bit more subtle has been a **stepwise backwards selection**, where we have gone removing variables based on AIC criteria (an alternative not so recommended but which can work is remove variables based on the individial p-values, but this is a risky procedure).\n",
        "\n",
        "At each step we have fit all the possible models coming from removing one of the variables and kept the one with the smallest AIC until no improvement is made.\n",
        "\n",
        "Later we will check if the Gauss-Markov conditions are satisfied and the model is validated."
      ]
    },
    {
      "cell_type": "markdown",
      "metadata": {
        "id": "BuHVGWF6ohgB"
      },
      "source": [
        "### 2.2 <font color = \"Blue\"> Explanatory Power </font>\n",
        "\n",
        "**Interpret the explanatory power of your model using the values of RSE and $\\bar R^2$**\n"
      ]
    },
    {
      "cell_type": "code",
      "metadata": {
        "id": "SkK2ggdoohgD",
        "colab": {
          "base_uri": "https://localhost:8080/"
        },
        "outputId": "df970188-0287-4efe-8161-0c05af0face0"
      },
      "source": [
        "# Data ---------------------------\n",
        "residuals = model.resid\n",
        "n = model.nobs\n",
        "K = len(model.model.exog[0])-1\n",
        "\n",
        "# Variance of the Errors ---------\n",
        "RSS = sum(residuals**2)\n",
        "\n",
        "# Explanatory Power --------------\n",
        "RSE = np.sqrt(RSS/(n-K-1))\n",
        "r2 = model.rsquared_adj\n",
        "\n",
        "print(f'The adjusted R2 is {r2:4.4f}')\n",
        "print(f'The Residuals Standard Error is {RSE:4.4f}')"
      ],
      "execution_count": null,
      "outputs": [
        {
          "output_type": "stream",
          "text": [
            "The adjusted R2 is 0.7235\n",
            "The Residuals Standard Error is 4.0671\n"
          ],
          "name": "stdout"
        }
      ]
    },
    {
      "cell_type": "markdown",
      "metadata": {
        "id": "_5jDgAaleFOI"
      },
      "source": [
        "These values imply that we can explain the $72.34\\%$ of the life expectancy with this model and that even if the model were the true one, on average, we would still be 4.07 years away from the true value due to the random noise in the variable.\n",
        "\n",
        "Both values are reasonably good, although point to the existence of other relevant variables that may help us to improve the model."
      ]
    },
    {
      "cell_type": "markdown",
      "metadata": {
        "id": "Crg2Lzf7ohgJ"
      },
      "source": [
        "### 2.3 <font color = \"Blue\"> Model Assumptions </font>\n",
        "\n",
        "**Does the model satisfy the assumptions of the MLRM? (linearity, normality of the residuals and homoskedasticity)?**"
      ]
    },
    {
      "cell_type": "markdown",
      "metadata": {
        "id": "vScy1L_b1eBT"
      },
      "source": [
        "#### Linearity\n",
        "\n",
        "The H0 of the test is that the model is properly specified (no need of extra variables)\n",
        "\n",
        "$$\n",
        "H_0:\\{\\text{The model is linear}\\}\n",
        "$$"
      ]
    },
    {
      "cell_type": "markdown",
      "metadata": {
        "id": "W0y8i2pHghRE"
      },
      "source": [
        "We are going to use Harvey-Collier test which tests on the mean "
      ]
    },
    {
      "cell_type": "code",
      "metadata": {
        "id": "V46rba5K125V",
        "colab": {
          "base_uri": "https://localhost:8080/"
        },
        "outputId": "fa4861bc-45bf-44bd-9d3e-6ae2257dc189"
      },
      "source": [
        "name = ['t value', 'p value']\n",
        "test = sms.linear_harvey_collier(model)\n",
        "lzip(name, test)"
      ],
      "execution_count": null,
      "outputs": [
        {
          "output_type": "execute_result",
          "data": {
            "text/plain": [
              "[('t value', -0.16670436928422638), ('p value', 0.8678879931109317)]"
            ]
          },
          "metadata": {
            "tags": []
          },
          "execution_count": 28
        }
      ]
    },
    {
      "cell_type": "markdown",
      "metadata": {
        "id": "iJc8NEzU2gGp"
      },
      "source": [
        "the p-value implies that there are no problems with misspecification of the model. Let's make a residuals plot to see if this agrees with the intution from it"
      ]
    },
    {
      "cell_type": "code",
      "metadata": {
        "id": "QfzlT74f6lao"
      },
      "source": [
        "# Fitted and abs-residuals ------------------------------\n",
        "fitted = model.fittedvalues\n",
        "abs_resids = np.abs(residuals)"
      ],
      "execution_count": null,
      "outputs": []
    },
    {
      "cell_type": "code",
      "metadata": {
        "id": "c36PeFD66476",
        "colab": {
          "base_uri": "https://localhost:8080/",
          "height": 353
        },
        "outputId": "767fbf72-1d06-4f9a-be66-fb6965226bb2"
      },
      "source": [
        "plt.figure(figsize = (15,5))\n",
        "sns.residplot(x = fitted, y = 'Lexpectancy', data = lexp_2010,\n",
        "              lowess = True,\n",
        "              scatter_kws = {'color': 'blue'},\n",
        "              line_kws = {'color': 'red', 'lw': 2, 'alpha': 0.5})\n",
        "plt.xlabel('Fitted Values')\n",
        "plt.ylabel('Residuals')\n",
        "plt.title('Residuals Plot')\n",
        "plt.show()"
      ],
      "execution_count": null,
      "outputs": [
        {
          "output_type": "display_data",
          "data": {
            "image/png": "[encoded data removed]",
            "text/plain": [
              "<Figure size 1080x360 with 1 Axes>"
            ]
          },
          "metadata": {
            "tags": []
          }
        }
      ]
    },
    {
      "cell_type": "markdown",
      "metadata": {
        "id": "802BshX-iIWt"
      },
      "source": [
        "note that a Ramsey Test may reject the NULL due to the absence of values in the bottom left region of the graph which may be indicative of a quadratic shape, and to the bottom right value which is shifting the lowess towards it. However, these deviations don't seem too relevant. As an alternative we may use Rainbow test as"
      ]
    },
    {
      "cell_type": "code",
      "metadata": {
        "colab": {
          "base_uri": "https://localhost:8080/"
        },
        "id": "SjTyQ5_LiuGk",
        "outputId": "1bd661f0-d344-4610-ee60-98c0f9abf971"
      },
      "source": [
        "name = ['t value', 'p value']\n",
        "test = sms.linear_rainbow(model, frac=0.5)\n",
        "lzip(name, test)"
      ],
      "execution_count": null,
      "outputs": [
        {
          "output_type": "execute_result",
          "data": {
            "text/plain": [
              "[('t value', 1.1480936142143687), ('p value', 0.29891158055387246)]"
            ]
          },
          "metadata": {
            "tags": []
          },
          "execution_count": 31
        }
      ]
    },
    {
      "cell_type": "markdown",
      "metadata": {
        "id": "5GdGbOPJi_wS"
      },
      "source": [
        "which again fails to reject linearity."
      ]
    },
    {
      "cell_type": "markdown",
      "metadata": {
        "id": "AOaS8V9JjKdL"
      },
      "source": [
        "#### Normality"
      ]
    },
    {
      "cell_type": "code",
      "metadata": {
        "colab": {
          "base_uri": "https://localhost:8080/",
          "height": 372
        },
        "id": "9m_Le3WDjU_I",
        "outputId": "fffb8521-c44a-4b63-c2d4-7364e8d0f1d8"
      },
      "source": [
        "plt.figure(figsize=(15,5))\n",
        "plt.suptitle('Normality of the Residuals', fontsize=17)\n",
        "\n",
        "plt.subplot(1,3,1)\n",
        "plt.hist(residuals,\n",
        "         color='navy',\n",
        "         ec='deepskyblue')\n",
        "\n",
        "plt.subplot(1,3,2)\n",
        "plt.boxplot(residuals,\n",
        "            patch_artist=True,\n",
        "            widths=0.6,\n",
        "            flierprops = dict(marker='o',\n",
        "                              markerfacecolor='red'),\n",
        "            boxprops = dict(facecolor='navy'))\n",
        "\n",
        "plt.subplot(1,3,3)\n",
        "ss.probplot(residuals, plot=plt)\n",
        "plt.show()"
      ],
      "execution_count": null,
      "outputs": [
        {
          "output_type": "display_data",
          "data": {
            "image/png": "[encoded data removed]",
            "text/plain": [
              "<Figure size 1080x360 with 3 Axes>"
            ]
          },
          "metadata": {
            "tags": []
          }
        }
      ]
    },
    {
      "cell_type": "markdown",
      "metadata": {
        "id": "rkHdpcZljw0S"
      },
      "source": [
        "From the graphs we may see that there may be a problem in the tails of the dsitribution (just as we have seen in the linearity case). In this case we are going to perform different normality tests"
      ]
    },
    {
      "cell_type": "code",
      "metadata": {
        "colab": {
          "base_uri": "https://localhost:8080/"
        },
        "id": "s6rIxbeOj4SJ",
        "outputId": "8fcce81f-bd5f-4783-b3f8-b7c4616a4e50"
      },
      "source": [
        "s_stat, s_pval = ss.shapiro(residuals)\n",
        "d_stat, d_pval = ss.normaltest(residuals)\n",
        "\n",
        "print(f'Shapiro-Wilk statistic: {s_stat:4.2f}\\np-value: {s_pval:4.4f}')\n",
        "print(f'\\nD\\'Agostino statistic: {s_stat:4.2f}\\np-value: {d_pval:4.4f}')"
      ],
      "execution_count": null,
      "outputs": [
        {
          "output_type": "stream",
          "text": [
            "Shapiro-Wilk statistic: 0.98\n",
            "p-value: 0.0687\n",
            "\n",
            "D'Agostino statistic: 0.98\n",
            "p-value: 0.0498\n"
          ],
          "name": "stdout"
        }
      ]
    },
    {
      "cell_type": "markdown",
      "metadata": {
        "id": "zsWgkh3oj3uv"
      },
      "source": [
        "From these tests we see that normality can only be assumed for a 1% since all the three tests (including Jarque-Bera from the summary) return p-values in the order of 5%."
      ]
    },
    {
      "cell_type": "markdown",
      "metadata": {
        "id": "4voFdedvjMJM"
      },
      "source": [
        "#### Heteroskedasticy"
      ]
    },
    {
      "cell_type": "markdown",
      "metadata": {
        "id": "TPcY-zH5o4Q9"
      },
      "source": [
        "From the residuals plot before we may infer that in this case we can find some problems since there is a funnel-like shape in it (from right to left) then we are going to perform different tests: Breusch-Pagan, White and Goldfeld-Quandt:"
      ]
    },
    {
      "cell_type": "code",
      "metadata": {
        "colab": {
          "base_uri": "https://localhost:8080/"
        },
        "id": "jMCJZUz7lhVG",
        "outputId": "b49a0fb7-1596-4f5d-8391-3c068911342b"
      },
      "source": [
        "values = ['Multiplier', 'p-value', 'F statistic', 'Fp-value']\n",
        "bp_test = ssd.het_white(residuals, model.model.exog)\n",
        "lzip(values, bp_test)"
      ],
      "execution_count": null,
      "outputs": [
        {
          "output_type": "execute_result",
          "data": {
            "text/plain": [
              "[('Multiplier', 16.360947474439826),\n",
              " ('p-value', 0.005885662590996563),\n",
              " ('F statistic', 3.5931217890766582),\n",
              " ('Fp-value', 0.004662862311791568)]"
            ]
          },
          "metadata": {
            "tags": []
          },
          "execution_count": 34
        }
      ]
    },
    {
      "cell_type": "code",
      "metadata": {
        "colab": {
          "base_uri": "https://localhost:8080/"
        },
        "id": "wIqwPXwHjOXp",
        "outputId": "051ed8c0-6ce4-4644-d688-8baa9a6a6902"
      },
      "source": [
        "values = ['Multiplier', 'p-value', 'F statistic', 'Fp-value']\n",
        "bp_test = ssd.het_breuschpagan(residuals, model.model.exog)\n",
        "lzip(values, bp_test)"
      ],
      "execution_count": null,
      "outputs": [
        {
          "output_type": "execute_result",
          "data": {
            "text/plain": [
              "[('Multiplier', 15.953347974025716),\n",
              " ('p-value', 0.00034337961036774196),\n",
              " ('F statistic', 8.9510058669465),\n",
              " ('Fp-value', 0.0002391439054417436)]"
            ]
          },
          "metadata": {
            "tags": []
          },
          "execution_count": 35
        }
      ]
    },
    {
      "cell_type": "code",
      "metadata": {
        "colab": {
          "base_uri": "https://localhost:8080/"
        },
        "id": "bW727DcFovE4",
        "outputId": "4085d7d5-3e77-4116-ff95-0672d3843b90"
      },
      "source": [
        "name = ['F statistic', 'p-value']\n",
        "test = sms.het_goldfeldquandt(residuals, model.model.exog)\n",
        "lzip(name, test)"
      ],
      "execution_count": null,
      "outputs": [
        {
          "output_type": "execute_result",
          "data": {
            "text/plain": [
              "[('F statistic', 0.9002280259177067), ('p-value', 0.6548410231882309)]"
            ]
          },
          "metadata": {
            "tags": []
          },
          "execution_count": 36
        }
      ]
    },
    {
      "cell_type": "markdown",
      "metadata": {
        "id": "Nib-x6VypVN8"
      },
      "source": [
        "In all but GQ tests, we reject homoskedasticity. Let's plot the residuals against the independent variables to see if we can detect where the problem comes from, then"
      ]
    },
    {
      "cell_type": "code",
      "metadata": {
        "colab": {
          "base_uri": "https://localhost:8080/",
          "height": 338
        },
        "id": "OEcUT8peTN7F",
        "outputId": "e01e13e8-12a6-49b3-c2ac-c21752c11702"
      },
      "source": [
        "plt.figure(figsize=(15,5))\n",
        "plt.subplot(1,2,1)\n",
        "plt.scatter(y=residuals, x=lexp_2010['BasicWater'],\n",
        "            color='dodgerblue')\n",
        "plt.ylabel('Residual', fontsize=15)\n",
        "plt.xlabel('Basic Water', fontsize=15)\n",
        "\n",
        "plt.subplot(1,2,2)\n",
        "plt.scatter(y=residuals, x=lexp_2010['ElecPowCons'],\n",
        "            color='forestgreen')\n",
        "plt.ylabel('Residual', fontsize=15)\n",
        "plt.xlabel('Electric Power Consumption', fontsize=15)\n",
        "\n",
        "plt.show()"
      ],
      "execution_count": null,
      "outputs": [
        {
          "output_type": "display_data",
          "data": {
            "image/png": "[encoded data removed]",
            "text/plain": [
              "<Figure size 1080x360 with 2 Axes>"
            ]
          },
          "metadata": {
            "tags": []
          }
        }
      ]
    },
    {
      "cell_type": "markdown",
      "metadata": {
        "id": "vLPguPRvTnlJ"
      },
      "source": [
        "From these graphs we see that the problem may come from both variables, if we follow Glesjer test and regress the residuals on the variables, it turns that the problem comes from the `Basic Water` variable (only this variable is relevant)"
      ]
    },
    {
      "cell_type": "code",
      "metadata": {
        "colab": {
          "base_uri": "https://localhost:8080/"
        },
        "id": "G1gny7azTzyi",
        "outputId": "031e1b56-3fba-472b-cad8-0bbda9410a6a"
      },
      "source": [
        "aux_data=pd.DataFrame({'resid': np.abs(residuals), 'epc': lexp_2010['ElecPowCons'], 'water': lexp_2010['BasicWater']})\n",
        "aux_model = ols('resid ~ water', data=aux_data).fit()\n",
        "print(aux_model.summary())"
      ],
      "execution_count": null,
      "outputs": [
        {
          "output_type": "stream",
          "text": [
            "                            OLS Regression Results                            \n",
            "==============================================================================\n",
            "Dep. Variable:                  resid   R-squared:                       0.074\n",
            "Model:                            OLS   Adj. R-squared:                  0.066\n",
            "Method:                 Least Squares   F-statistic:                     9.597\n",
            "Date:                Sun, 20 Jun 2021   Prob (F-statistic):            0.00243\n",
            "Time:                        16:30:22   Log-Likelihood:                -279.75\n",
            "No. Observations:                 122   AIC:                             563.5\n",
            "Df Residuals:                     120   BIC:                             569.1\n",
            "Df Model:                           1                                         \n",
            "Covariance Type:            nonrobust                                         \n",
            "==============================================================================\n",
            "                 coef    std err          t      P>|t|      [0.025      0.975]\n",
            "------------------------------------------------------------------------------\n",
            "Intercept      7.1044      1.295      5.487      0.000       4.541       9.668\n",
            "water         -0.0444      0.014     -3.098      0.002      -0.073      -0.016\n",
            "==============================================================================\n",
            "Omnibus:                       18.474   Durbin-Watson:                   2.091\n",
            "Prob(Omnibus):                  0.000   Jarque-Bera (JB):               22.380\n",
            "Skew:                           0.884   Prob(JB):                     1.38e-05\n",
            "Kurtosis:                       4.131   Cond. No.                         534.\n",
            "==============================================================================\n",
            "\n",
            "Warnings:\n",
            "[1] Standard Errors assume that the covariance matrix of the errors is correctly specified.\n"
          ],
          "name": "stdout"
        }
      ]
    },
    {
      "cell_type": "markdown",
      "metadata": {
        "id": "NWcwlaLeXR8M"
      },
      "source": [
        "Then we may perform a *weighted least squares* using this information and use the fitted values of this last model to define the weights of the model. To decide between different alternatives of these weights wnote that what we detect is a funnel shape in the plots of the residuals vs. fitted value and the regressor. Then we have two options, estimate the weights from the regression of the absolute value of the residuals on the \n",
        "\n",
        " * the fitted values\n",
        " * the regressor\n",
        "\n",
        "this last is the previous model we have found, then the other is "
      ]
    },
    {
      "cell_type": "code",
      "metadata": {
        "colab": {
          "base_uri": "https://localhost:8080/"
        },
        "id": "4hnddp6oDSRL",
        "outputId": "69451b77-afc9-4ab1-990c-742973f0d34b"
      },
      "source": [
        "aux_data_2=pd.DataFrame({'resid': np.abs(residuals), 'fitted': model.fittedvalues})\n",
        "aux_model_2 = ols('resid ~ fitted', data=aux_data_2).fit()\n",
        "print(aux_model_2.summary())"
      ],
      "execution_count": null,
      "outputs": [
        {
          "output_type": "stream",
          "text": [
            "                            OLS Regression Results                            \n",
            "==============================================================================\n",
            "Dep. Variable:                  resid   R-squared:                       0.061\n",
            "Model:                            OLS   Adj. R-squared:                  0.054\n",
            "Method:                 Least Squares   F-statistic:                     7.862\n",
            "Date:                Sun, 20 Jun 2021   Prob (F-statistic):            0.00589\n",
            "Time:                        16:31:03   Log-Likelihood:                -280.57\n",
            "No. Observations:                 122   AIC:                             565.1\n",
            "Df Residuals:                     120   BIC:                             570.8\n",
            "Df Model:                           1                                         \n",
            "Covariance Type:            nonrobust                                         \n",
            "==============================================================================\n",
            "                 coef    std err          t      P>|t|      [0.025      0.975]\n",
            "------------------------------------------------------------------------------\n",
            "Intercept      9.9353      2.430      4.089      0.000       5.125      14.746\n",
            "fitted        -0.0940      0.034     -2.804      0.006      -0.160      -0.028\n",
            "==============================================================================\n",
            "Omnibus:                       20.898   Durbin-Watson:                   2.098\n",
            "Prob(Omnibus):                  0.000   Jarque-Bera (JB):               26.372\n",
            "Skew:                           0.961   Prob(JB):                     1.88e-06\n",
            "Kurtosis:                       4.222   Cond. No.                         800.\n",
            "==============================================================================\n",
            "\n",
            "Warnings:\n",
            "[1] Standard Errors assume that the covariance matrix of the errors is correctly specified.\n"
          ],
          "name": "stdout"
        }
      ]
    },
    {
      "cell_type": "markdown",
      "metadata": {
        "id": "r9daFE8dDfrJ"
      },
      "source": [
        "this second model does not produce a significant coefficient and will not be used. Then we will estimate the weights from the fitted values of the `aux_model`"
      ]
    },
    {
      "cell_type": "code",
      "metadata": {
        "colab": {
          "base_uri": "https://localhost:8080/"
        },
        "id": "vW0fTPwYVpdk",
        "outputId": "ff7f0ff8-20ef-4383-f265-ec9cb12be8be"
      },
      "source": [
        "y=lexp_2010['Lexpectancy']\n",
        "x=lexp_2010[['BasicWater','ElecPowCons']]\n",
        "x = sm.add_constant(x)    \n",
        "\n",
        "weights = abs(aux_model.fittedvalues)**(-2)\n",
        "\n",
        "we_model = sm.WLS(y, x, weights).fit()\n",
        "print(we_model.summary())"
      ],
      "execution_count": null,
      "outputs": [
        {
          "output_type": "stream",
          "text": [
            "                            WLS Regression Results                            \n",
            "==============================================================================\n",
            "Dep. Variable:            Lexpectancy   R-squared:                       0.675\n",
            "Model:                            WLS   Adj. R-squared:                  0.670\n",
            "Method:                 Least Squares   F-statistic:                     123.8\n",
            "Date:                Sun, 20 Jun 2021   Prob (F-statistic):           8.49e-30\n",
            "Time:                        17:58:46   Log-Likelihood:                -334.83\n",
            "No. Observations:                 122   AIC:                             675.7\n",
            "Df Residuals:                     119   BIC:                             684.1\n",
            "Df Model:                           2                                         \n",
            "Covariance Type:            nonrobust                                         \n",
            "===============================================================================\n",
            "                  coef    std err          t      P>|t|      [0.025      0.975]\n",
            "-------------------------------------------------------------------------------\n",
            "const          34.0941      3.016     11.304      0.000      28.122      40.066\n",
            "BasicWater      0.4172      0.033     12.573      0.000       0.352       0.483\n",
            "ElecPowCons     0.0002   5.35e-05      4.059      0.000       0.000       0.000\n",
            "==============================================================================\n",
            "Omnibus:                        4.705   Durbin-Watson:                   1.842\n",
            "Prob(Omnibus):                  0.095   Jarque-Bera (JB):                3.763\n",
            "Skew:                          -0.318   Prob(JB):                        0.152\n",
            "Kurtosis:                       2.421   Cond. No.                     7.72e+04\n",
            "==============================================================================\n",
            "\n",
            "Warnings:\n",
            "[1] Standard Errors assume that the covariance matrix of the errors is correctly specified.\n",
            "[2] The condition number is large, 7.72e+04. This might indicate that there are\n",
            "strong multicollinearity or other numerical problems.\n"
          ],
          "name": "stdout"
        }
      ]
    },
    {
      "cell_type": "markdown",
      "metadata": {
        "id": "AtB2yq6gL4hi"
      },
      "source": [
        "Note that this is the model we will use from now on."
      ]
    },
    {
      "cell_type": "markdown",
      "metadata": {
        "id": "axTBX58bjSRs"
      },
      "source": [
        "#### Autocorrelation"
      ]
    },
    {
      "cell_type": "markdown",
      "metadata": {
        "id": "4yajMjVbEKik"
      },
      "source": [
        "In this case looking at the tables we find that for $n\\approx 100$ and $k=2$ we have $d_L=1.502$ and $d_U=1.582$. In our case $DW=1.842$, which implies that there is no autocorrelation.\n",
        "\n",
        "You may want to use any other of the schemes to detect autocorrelation. One possible is the Breusch-Godfrey, which in our case makes use of a regression\n",
        "\n",
        "$$\n",
        "\\hat e_i=\\beta_0+\\beta_1\\,\\text{BasicWater}+\\beta_2\\,\\text{ElecPowCons} + \\sum_{j=1}^p \\hat e_{i-j}\n",
        "$$\n",
        "\n",
        "where $\\hat e_{i-j} \\in \\{\\hat e_{i-1}, \\hat e_{i-2}, \\hat e_{i-3},\\dots\\}$  are all the possible lags of the residuals. In this case \n",
        "\n",
        "$$\n",
        "(n-p)R^2\\rightarrow\\chi^2_p\n",
        "$$\n",
        "\n",
        "We are just going to use the first lag, then we have a $\\chi^2_1$ distribution from the value of the $R^2$ of the model. \n"
      ]
    },
    {
      "cell_type": "code",
      "metadata": {
        "id": "otzTzlmWjVaa",
        "colab": {
          "base_uri": "https://localhost:8080/"
        },
        "outputId": "ddca212b-1e98-4458-89c5-87fd280959e4"
      },
      "source": [
        "ssd.acorr_breusch_godfrey(we_model,1)"
      ],
      "execution_count": null,
      "outputs": [
        {
          "output_type": "execute_result",
          "data": {
            "text/plain": [
              "(2.1386158032265516,\n",
              " 0.1436314381218471,\n",
              " 0.00028840015399915465,\n",
              " 0.986479378678417)"
            ]
          },
          "metadata": {
            "tags": []
          },
          "execution_count": 41
        }
      ]
    },
    {
      "cell_type": "markdown",
      "metadata": {
        "id": "aYCggjTUIQ4-"
      },
      "source": [
        "the p-values are the second and fourth values returned by the function, then with both we fail to reject no autocorrelation in the model."
      ]
    },
    {
      "cell_type": "markdown",
      "metadata": {
        "id": "T1dbgleaohgU"
      },
      "source": [
        "### 2.4 <font color = \"Blue\"> Coefficients </font>\n",
        "\n",
        "**Give an interpretation of the coefficients of the model. Is the impact of each coefficient in agreement with your expectations? Is there any statistically relevant variable which is practically irrelevant?**"
      ]
    },
    {
      "cell_type": "markdown",
      "metadata": {
        "id": "SCS62Th-Iory"
      },
      "source": [
        "The fact that among the different variables some of them are irrelevant as the air pollution may seem at the beginning a bit surprising, but if we see it, it just turns out that that variable implies a bad situation for all the countries, being a percentage it does not give too much information, anyway.\n",
        "\n",
        "On the other hand, the coefficients of the model imply that:\n",
        "\n",
        " * When no percentage of the population has access to basic water facilities and there is no consumption of energy from electrical stations, the life expectancy would be, on average, $34.09$ years.\n",
        " * Holding the consumption from electrical stations fixed, an increase of 1 unit in the percentage of population with access to basic water facilities increases the life expectancy on $0.42$ years, on average.\n",
        " * Holding the percentage of the population with access of water facilities fixed, an increase of one unit in the consumption of electrical power, increases the life expectancy in $0.0002$ years, on average\n",
        " \n",
        "The second coefficient is practically irrelevant, although statistically significant, since the magnitude change produced is tiny. Even considering that the variable takes values in a large range, the change needed to produce a significant impact would be too large."
      ]
    },
    {
      "cell_type": "markdown",
      "metadata": {
        "id": "hxhgY6noohge"
      },
      "source": [
        "### 2.5 <font color = \"Blue\"> Confounding Variables </font> \n",
        "\n",
        "**Given the value you obtained of $\\bar R^2$, do you think there may be other relevant variables not included in the model? If so, what is the possible impact of not having included them? Can you name three of them and say why do you think they are relevant and their possible impact?**"
      ]
    },
    {
      "cell_type": "markdown",
      "metadata": {
        "id": "UYJdll-sL26V"
      },
      "source": [
        "The $\\bar R^2=0.67$ which implies that we can explain the $67\\%$ of the variability in the life expectancy using just these two variables. There are may other variables we may want to consider:\n",
        "\n",
        " * Unemployment rate\n",
        " * Economic wellbeing: income,...\n",
        " * Health investments and behaviours\n",
        " * Demographical structure \n",
        "\n",
        "to mention just some of them. In general it is assumed that the socioeconomical status, the demographics and the health care are the three main pilars that affect the life expectancy."
      ]
    },
    {
      "cell_type": "markdown",
      "metadata": {
        "id": "KAIrrI44ohgn"
      },
      "source": [
        "## 3. <font color = \"MediumBlue\">Categorical Variable</font>\n"
      ]
    },
    {
      "cell_type": "markdown",
      "metadata": {
        "id": "mGvb3umdohgo"
      },
      "source": [
        "### 3.1.-  <font color = \"Blue\"> Comparison of Years </font> \n",
        "\n",
        "**Our next analysis will deal with the variation of the life expectancy in two years: 2010 and 2016. For this, fir the following model**\n",
        "\n",
        "$$\n",
        "\\text{LExpectancy} = \\beta_0 + \\beta_1\\,\\text{year}\n",
        "$$\n",
        "\n",
        "**which corresponds to the comparison of two populations means. Given the model (and remember that in this case the variable *must* be normally distributed (so transform it if needed) would you say that there is a significant difference in the life expectancy in the world in these two years for a 1%? And for a 5%?**"
      ]
    },
    {
      "cell_type": "markdown",
      "metadata": {
        "id": "HRipQlC8PXpK"
      },
      "source": [
        "Let's first see the normality of the life expectancy"
      ]
    },
    {
      "cell_type": "code",
      "metadata": {
        "colab": {
          "base_uri": "https://localhost:8080/",
          "height": 372
        },
        "id": "3WtVXQc2Pim_",
        "outputId": "1af9dbb3-a82d-4471-f823-ad0c30447c8a"
      },
      "source": [
        "plt.figure(figsize=(15,5))\n",
        "plt.suptitle('Normality of the Life Expectancy', fontsize=17)\n",
        "\n",
        "plt.subplot(1,3,1)\n",
        "plt.hist(lexp['Lexpectancy'],\n",
        "         color='dodgerblue',\n",
        "         ec='navy')\n",
        "\n",
        "plt.subplot(1,3,2)\n",
        "plt.boxplot(lexp['Lexpectancy'],\n",
        "            patch_artist=True,\n",
        "            widths=0.6,\n",
        "            flierprops = dict(marker='o',\n",
        "                              markerfacecolor='red'),\n",
        "            boxprops = dict(facecolor='dodgerblue'))\n",
        "\n",
        "plt.subplot(1,3,3)\n",
        "ss.probplot(lexp['Lexpectancy'], plot=plt)\n",
        "plt.show()"
      ],
      "execution_count": null,
      "outputs": [
        {
          "output_type": "display_data",
          "data": {
            "image/png": "[encoded data removed]",
            "text/plain": [
              "<Figure size 1080x360 with 3 Axes>"
            ]
          },
          "metadata": {
            "tags": []
          }
        }
      ]
    },
    {
      "cell_type": "markdown",
      "metadata": {
        "id": "DnXh9ER6P42C"
      },
      "source": [
        "From the graphs we immdiately see that the distribution is left-skewed, which can be tested easily"
      ]
    },
    {
      "cell_type": "code",
      "metadata": {
        "colab": {
          "base_uri": "https://localhost:8080/"
        },
        "id": "zmjrPJMdPXLV",
        "outputId": "59e2625a-c11b-4b5c-9556-0356ab391aa8"
      },
      "source": [
        "ss.normaltest(lexp['Lexpectancy'])"
      ],
      "execution_count": null,
      "outputs": [
        {
          "output_type": "execute_result",
          "data": {
            "text/plain": [
              "NormaltestResult(statistic=31.178185602859173, pvalue=1.697239061817585e-07)"
            ]
          },
          "metadata": {
            "tags": []
          },
          "execution_count": 43
        }
      ]
    },
    {
      "cell_type": "markdown",
      "metadata": {
        "id": "3H6J7ti7QCwM"
      },
      "source": [
        "then we need to make a transformation to obtain a normally distributed variable. Since all the values are positive, we can perform a Box-Cox transformation, then the power of the transformation is"
      ]
    },
    {
      "cell_type": "code",
      "metadata": {
        "colab": {
          "base_uri": "https://localhost:8080/"
        },
        "id": "9SLkNQ0NQNXN",
        "outputId": "97c7323d-4098-41dd-debe-9aa47c09d727"
      },
      "source": [
        "transformed, power = ss.boxcox(lexp['Lexpectancy'])\n",
        "power"
      ],
      "execution_count": null,
      "outputs": [
        {
          "output_type": "execute_result",
          "data": {
            "text/plain": [
              "4.672902883871155"
            ]
          },
          "metadata": {
            "tags": []
          },
          "execution_count": 44
        }
      ]
    },
    {
      "cell_type": "markdown",
      "metadata": {
        "id": "mLZAtAlUUL9-"
      },
      "source": [
        "we may prefer to use Jeo-Johnson, and then we obtain"
      ]
    },
    {
      "cell_type": "code",
      "metadata": {
        "colab": {
          "base_uri": "https://localhost:8080/"
        },
        "id": "U9rUS-e3SfSQ",
        "outputId": "1a96c0c2-4021-47d5-c80f-5620ef3d5ba1"
      },
      "source": [
        "# Transformation\n",
        "var = lexp['Lexpectancy'].astype('float64').to_numpy().reshape((len(lexp['Lexpectancy']),1))\n",
        "power = PowerTransformer()\n",
        "var_transf = power.fit_transform(var)\n",
        "pow = power.fit(var)\n",
        "pow.lambdas_[0]"
      ],
      "execution_count": null,
      "outputs": [
        {
          "output_type": "execute_result",
          "data": {
            "text/plain": [
              "4.728049412137205"
            ]
          },
          "metadata": {
            "tags": []
          },
          "execution_count": 45
        }
      ]
    },
    {
      "cell_type": "markdown",
      "metadata": {
        "id": "Umu6NfMYURf7"
      },
      "source": [
        "In any case, we obtain a very similar transformation "
      ]
    },
    {
      "cell_type": "code",
      "metadata": {
        "colab": {
          "base_uri": "https://localhost:8080/",
          "height": 372
        },
        "id": "8-zfIaA5QnRz",
        "outputId": "c611d390-ba2d-49af-8dc9-7620456b992f"
      },
      "source": [
        "plt.figure(figsize=(15,5))\n",
        "plt.suptitle('Normality of the Life Expectancy', fontsize=17)\n",
        "\n",
        "plt.subplot(1,3,1)\n",
        "plt.hist(transformed,\n",
        "         color='dodgerblue',\n",
        "         ec='navy')\n",
        "\n",
        "plt.subplot(1,3,2)\n",
        "plt.boxplot(transformed,\n",
        "            patch_artist=True,\n",
        "            widths=0.6,\n",
        "            flierprops = dict(marker='o',\n",
        "                              markerfacecolor='red'),\n",
        "            boxprops = dict(facecolor='dodgerblue'))\n",
        "\n",
        "plt.subplot(1,3,3)\n",
        "ss.probplot(transformed, plot=plt)\n",
        "plt.show()"
      ],
      "execution_count": null,
      "outputs": [
        {
          "output_type": "display_data",
          "data": {
            "image/png": "[encoded data removed]",
            "text/plain": [
              "<Figure size 1080x360 with 3 Axes>"
            ]
          },
          "metadata": {
            "tags": []
          }
        }
      ]
    },
    {
      "cell_type": "markdown",
      "metadata": {
        "id": "xGozu2QYPhZk"
      },
      "source": [
        "That gives problems in the tails of the distribution: since there is a natural cutoff in both sides, we have a truncated distribution that will fail to be normal but symmetdue to the lack of values in the tails. However, since the sample size is larger than 40, we can use the normal approximation by the CLT, then"
      ]
    },
    {
      "cell_type": "code",
      "metadata": {
        "id": "KBn9NUN_ohgq",
        "colab": {
          "base_uri": "https://localhost:8080/"
        },
        "outputId": "3128728b-8345-4911-a6e5-e8783d1e82ae"
      },
      "source": [
        "lexp['L_trans'] = transformed\n",
        "years = ols('L_trans ~ C(Year)', data=lexp).fit()\n",
        "print(years.summary())"
      ],
      "execution_count": null,
      "outputs": [
        {
          "output_type": "stream",
          "text": [
            "                            OLS Regression Results                            \n",
            "==============================================================================\n",
            "Dep. Variable:                L_trans   R-squared:                       0.014\n",
            "Model:                            OLS   Adj. R-squared:                  0.010\n",
            "Method:                 Least Squares   F-statistic:                     3.712\n",
            "Date:                Sun, 20 Jun 2021   Prob (F-statistic):             0.0551\n",
            "Time:                        17:00:39   Log-Likelihood:                -4993.8\n",
            "No. Observations:                 262   AIC:                             9992.\n",
            "Df Residuals:                     260   BIC:                             9999.\n",
            "Df Model:                           1                                         \n",
            "Covariance Type:            nonrobust                                         \n",
            "===================================================================================\n",
            "                      coef    std err          t      P>|t|      [0.025      0.975]\n",
            "-----------------------------------------------------------------------------------\n",
            "Intercept        1.131e+08   4.02e+06     28.105      0.000    1.05e+08    1.21e+08\n",
            "C(Year)[T.2016]  1.096e+07   5.69e+06      1.927      0.055   -2.42e+05    2.22e+07\n",
            "==============================================================================\n",
            "Omnibus:                       18.056   Durbin-Watson:                   1.932\n",
            "Prob(Omnibus):                  0.000   Jarque-Bera (JB):                7.524\n",
            "Skew:                          -0.144   Prob(JB):                       0.0232\n",
            "Kurtosis:                       2.221   Cond. No.                         2.62\n",
            "==============================================================================\n",
            "\n",
            "Warnings:\n",
            "[1] Standard Errors assume that the covariance matrix of the errors is correctly specified.\n"
          ],
          "name": "stdout"
        }
      ]
    },
    {
      "cell_type": "markdown",
      "metadata": {
        "id": "3e2I_yGWOQkT"
      },
      "source": [
        "we see that the model is\n",
        "\n",
        "$$\n",
        "\\text{Lexpectancy} = 1.12\\cdot 10^8 + 1.10\\cdot 10^7\\,\\text{Year}_{2016}\n",
        "$$\n",
        "\n",
        "where we have made the explicit subindex denoting that the base year is 2010. Then we find a p-value for the variable (and the model) of $0.049$, then\n",
        "\n",
        " * For a 1% we fail to reject the NULL and do not find evidence that the model is relevant, then we do not detect any significant difference between the life expectancy in both years\n",
        " * For a 5% we may reject the NULL and detect a significant difference, however, the p-value is so close to $\\alpha$ that we may better conclude that the test is not conclusive (we need a different significance level, as 10%, for exmaple)\n"
      ]
    },
    {
      "cell_type": "markdown",
      "metadata": {
        "id": "saL-PEQLohgu"
      },
      "source": [
        "### 3.2.- <font color = \"Blue\"> ANOVA </font>  \n",
        "\n",
        "**Let's now see if there is a significant difference in the life expectancy across different continents. For this we will use the following model:**\n",
        "\n",
        "$$\n",
        "\\text{LExpectancy} = \\beta_0 + \\beta_1\\,\\text{continent}\n",
        "$$\n",
        "\n",
        "**Then discuss for a 1% of significance level:**\n",
        "\n",
        " * **If this model let’s you explain the variability of the life expectancy around the world, then**\n",
        " * **If the model is relevant, perform a post-hoc analysis and determine whcih continents are different and in which the life expectancy is larger**\n",
        "\n"
      ]
    },
    {
      "cell_type": "markdown",
      "metadata": {
        "id": "Avu2wDyIXMGJ"
      },
      "source": [
        "In this analysis we will use the transformed variable"
      ]
    },
    {
      "cell_type": "code",
      "metadata": {
        "colab": {
          "base_uri": "https://localhost:8080/",
          "height": 707
        },
        "id": "D0xw1uouR9JM",
        "outputId": "ebfb88b7-08f7-4e2c-e149-90f1e7de2075"
      },
      "source": [
        "colors = ['lightgreen', 'lightblue', 'lightyellow', 'lightcoral', 'pink']\n",
        "borders = ['Darkgreen', 'Darkblue', 'gold', 'Darkred', 'purple']\n",
        "continents = lexp.Continent.unique()\n",
        "coords_h = [(0,0), (0,1), (0,2), (0,3), (0,4)]\n",
        "coords_v = [(1,0), (1,1), (1,2), (1,3), (1,4)]\n",
        "\n",
        "plt.figure(figsize = (15,10))\n",
        "\n",
        "for i,j,k,l,m in zip(colors, borders, continents, coords_h, coords_v):\n",
        "  plt.subplot2grid((3,6), l)\n",
        "  plt.hist(lexp[lexp['Continent'] == k]['L_trans'],\n",
        "           color = i,\n",
        "           ec = j,\n",
        "           bins = 'rice')\n",
        "  plt.title(k.title())\n",
        "\n",
        "  plt.subplot2grid((3,6), m)\n",
        "  ss.probplot(lexp[lexp['Continent'] == k]['L_trans'],\n",
        "            dist = 'norm',\n",
        "            plot = plt)\n",
        "  plt.title('')\n",
        "\n",
        "\n",
        "# Boxplots ------------------------------------------\n",
        "plt.subplot2grid((3,6), (2,0), colspan=5)\n",
        "bp =plt.boxplot([lexp[lexp['Continent']=='Europe']['L_trans'],\n",
        "                 lexp[lexp['Continent']=='Africa']['L_trans'],\n",
        "                 lexp[lexp['Continent']=='America']['L_trans'],\n",
        "                 lexp[lexp['Continent']=='Oceania']['L_trans'],\n",
        "                 lexp[lexp['Continent']=='Asia']['L_trans']],\n",
        "                showmeans = True,\n",
        "                patch_artist = True,\n",
        "                widths = 0.5,\n",
        "                flierprops = dict(marker = 'o',\n",
        "                                  markerfacecolor = 'red'),\n",
        "                labels = ['Europe', 'Africa', 'America', 'Oceania', 'Asia']\n",
        "                )\n",
        "\n",
        "for patch, color in zip(bp['boxes'], colors):\n",
        "    patch.set_facecolor(color)\n",
        "\n",
        "plt.tight_layout(rect = (0,0,0.9,0.9))\n",
        "plt.show()"
      ],
      "execution_count": null,
      "outputs": [
        {
          "output_type": "stream",
          "text": [
            "/usr/local/lib/python3.7/dist-packages/numpy/core/_asarray.py:83: VisibleDeprecationWarning: Creating an ndarray from ragged nested sequences (which is a list-or-tuple of lists-or-tuples-or ndarrays with different lengths or shapes) is deprecated. If you meant to do this, you must specify 'dtype=object' when creating the ndarray\n",
            "  return array(a, dtype, copy=False, order=order)\n"
          ],
          "name": "stderr"
        },
        {
          "output_type": "display_data",
          "data": {
            "image/png": "[encoded data removed]",
            "text/plain": [
              "<Figure size 1080x720 with 11 Axes>"
            ]
          },
          "metadata": {
            "tags": []
          }
        }
      ]
    },
    {
      "cell_type": "markdown",
      "metadata": {
        "id": "l3EZ-M56Vgn-"
      },
      "source": [
        "from this graph we see that we are not going to satisfy the ANOVA conditions, neither normality nor homoskedasticity hold (you may check it formally). However (more or less) all of them deviate in the same direction (see the QQ-plots) and we may be directed to use Kruskal-Wallis, then"
      ]
    },
    {
      "cell_type": "code",
      "metadata": {
        "colab": {
          "base_uri": "https://localhost:8080/"
        },
        "id": "n3RqFAXFRPmC",
        "outputId": "78cb9d9b-f6fd-4c15-ab99-378417b6780b"
      },
      "source": [
        "print(\"Kruskal Wallis H-test test:\\n\")\n",
        "\n",
        "H, pval = mstats.kruskalwallis(lexp[lexp['Continent']=='Europe']['L_trans'].values,\n",
        "                               lexp[lexp['Continent']=='Africa']['L_trans'].values,\n",
        "                               lexp[lexp['Continent']=='America']['L_trans'].values,\n",
        "                               lexp[lexp['Continent']=='Oceania']['L_trans'].values,\n",
        "                               lexp[lexp['Continent']=='Asia']['L_trans'].values)\n",
        "\n",
        "print(\"H-statistic:\", H)\n",
        "print(\"P-Value:\", pval)\n",
        "\n",
        "if pval < 0.05:\n",
        "    print(\"\\nReject the NULL hypothesis for a 5%: There is evidence in favor of significant differences between the populations.\")\n",
        "if pval > 0.05:\n",
        "    print(\"\\nFail to Reject the NULL hypothesis for a 5%: There is no evidence in favor of significant differences between the populations\")"
      ],
      "execution_count": null,
      "outputs": [
        {
          "output_type": "stream",
          "text": [
            "Kruskal Wallis H-test test:\n",
            "\n",
            "H-statistic: 78.60319259779284\n",
            "P-Value: 3.4423565056494884e-16\n",
            "\n",
            "Reject the NULL hypothesis for a 5%: There is evidence in favor of significant differences between the populations.\n"
          ],
          "name": "stdout"
        }
      ]
    },
    {
      "cell_type": "markdown",
      "metadata": {
        "id": "tuEg4DpRWYeI"
      },
      "source": [
        "since we reject the NULL, we can use a post-hoc analysis to determine which of the populations is significantly different."
      ]
    },
    {
      "cell_type": "code",
      "metadata": {
        "colab": {
          "base_uri": "https://localhost:8080/",
          "height": 197
        },
        "id": "1TV2rwFvWnKB",
        "outputId": "6ac5c89a-2d4f-4f61-a441-a4f1dbb22791"
      },
      "source": [
        "sp.posthoc_conover(lexp, val_col='L_trans', group_col='Continent', p_adjust = 'holm')"
      ],
      "execution_count": null,
      "outputs": [
        {
          "output_type": "execute_result",
          "data": {
            "text/html": [
              "<div>\n",
              "<style scoped>\n",
              "    .dataframe tbody tr th:only-of-type {\n",
              "        vertical-align: middle;\n",
              "    }\n",
              "\n",
              "    .dataframe tbody tr th {\n",
              "        vertical-align: top;\n",
              "    }\n",
              "\n",
              "    .dataframe thead th {\n",
              "        text-align: right;\n",
              "    }\n",
              "</style>\n",
              "<table border=\"1\" class=\"dataframe\">\n",
              "  <thead>\n",
              "    <tr style=\"text-align: right;\">\n",
              "      <th></th>\n",
              "      <th>Africa</th>\n",
              "      <th>America</th>\n",
              "      <th>Asia</th>\n",
              "      <th>Europe</th>\n",
              "      <th>Oceania</th>\n",
              "    </tr>\n",
              "  </thead>\n",
              "  <tbody>\n",
              "    <tr>\n",
              "      <th>Africa</th>\n",
              "      <td>1.000000e+00</td>\n",
              "      <td>0.000004</td>\n",
              "      <td>0.000011</td>\n",
              "      <td>1.307782e-20</td>\n",
              "      <td>0.002890</td>\n",
              "    </tr>\n",
              "    <tr>\n",
              "      <th>America</th>\n",
              "      <td>4.481099e-06</td>\n",
              "      <td>1.000000</td>\n",
              "      <td>1.000000</td>\n",
              "      <td>3.805113e-05</td>\n",
              "      <td>1.000000</td>\n",
              "    </tr>\n",
              "    <tr>\n",
              "      <th>Asia</th>\n",
              "      <td>1.093757e-05</td>\n",
              "      <td>1.000000</td>\n",
              "      <td>1.000000</td>\n",
              "      <td>5.626141e-06</td>\n",
              "      <td>1.000000</td>\n",
              "    </tr>\n",
              "    <tr>\n",
              "      <th>Europe</th>\n",
              "      <td>1.307782e-20</td>\n",
              "      <td>0.000038</td>\n",
              "      <td>0.000006</td>\n",
              "      <td>1.000000e+00</td>\n",
              "      <td>0.034014</td>\n",
              "    </tr>\n",
              "    <tr>\n",
              "      <th>Oceania</th>\n",
              "      <td>2.889753e-03</td>\n",
              "      <td>1.000000</td>\n",
              "      <td>1.000000</td>\n",
              "      <td>3.401420e-02</td>\n",
              "      <td>1.000000</td>\n",
              "    </tr>\n",
              "  </tbody>\n",
              "</table>\n",
              "</div>"
            ],
            "text/plain": [
              "               Africa   America      Asia        Europe   Oceania\n",
              "Africa   1.000000e+00  0.000004  0.000011  1.307782e-20  0.002890\n",
              "America  4.481099e-06  1.000000  1.000000  3.805113e-05  1.000000\n",
              "Asia     1.093757e-05  1.000000  1.000000  5.626141e-06  1.000000\n",
              "Europe   1.307782e-20  0.000038  0.000006  1.000000e+00  0.034014\n",
              "Oceania  2.889753e-03  1.000000  1.000000  3.401420e-02  1.000000"
            ]
          },
          "metadata": {
            "tags": []
          },
          "execution_count": 77
        }
      ]
    },
    {
      "cell_type": "markdown",
      "metadata": {
        "id": "CudCT56yWzLr"
      },
      "source": [
        "From this table we see that we fail to reject the equality of Oceania with America and Asia and also of Asia with America. All the other comparisons reject the equality and we find evidence against the equality of the life expectancies in those continents."
      ]
    },
    {
      "cell_type": "markdown",
      "metadata": {
        "id": "PdHc5uxlohgw"
      },
      "source": [
        "### 3.3.- <font color = \"Blue\"> Categorical Variable </font>  \n",
        "\n",
        "**If any of the previous variables is relevant to explain the variability of the life expectancy, try to use it in the model of section 2. Then**"
      ]
    },
    {
      "cell_type": "markdown",
      "metadata": {
        "id": "YeaF4BI4ohg9"
      },
      "source": [
        "#### 3.3.1. Chow Test\n",
        "\n",
        "**Perform a Chow test with the variable must be introduced in the model and how**\n"
      ]
    },
    {
      "cell_type": "markdown",
      "metadata": {
        "id": "J6dE3MCgYEuF"
      },
      "source": [
        "Given that the continent is a relevant variable we are going to include it in the model. However, in this case we have the problem that with the continent variable we may be adding 4 categorical variables and be comparing against the base continent which will be Africa in this case.\n",
        "\n",
        "The previous analysis implies that both Europe and Africa are different to all the other continents and the other three are not different, then we are going to define the dummies for these two variables"
      ]
    },
    {
      "cell_type": "code",
      "metadata": {
        "colab": {
          "base_uri": "https://localhost:8080/",
          "height": 217
        },
        "id": "GJfIGKWBddhw",
        "outputId": "7abf25ea-347f-46ba-a27b-39c5b3ecb8b8"
      },
      "source": [
        "new_data = pd.concat((lexp,\n",
        "                      pd.get_dummies(lexp['Continent'])),\n",
        "                     axis=1).drop('Continent', axis=1)\n",
        "new_data.head()"
      ],
      "execution_count": null,
      "outputs": [
        {
          "output_type": "execute_result",
          "data": {
            "text/html": [
              "<div>\n",
              "<style scoped>\n",
              "    .dataframe tbody tr th:only-of-type {\n",
              "        vertical-align: middle;\n",
              "    }\n",
              "\n",
              "    .dataframe tbody tr th {\n",
              "        vertical-align: top;\n",
              "    }\n",
              "\n",
              "    .dataframe thead th {\n",
              "        text-align: right;\n",
              "    }\n",
              "</style>\n",
              "<table border=\"1\" class=\"dataframe\">\n",
              "  <thead>\n",
              "    <tr style=\"text-align: right;\">\n",
              "      <th></th>\n",
              "      <th>Country</th>\n",
              "      <th>ForestArea</th>\n",
              "      <th>CO2Emissions</th>\n",
              "      <th>UrbanPop</th>\n",
              "      <th>AirPollution</th>\n",
              "      <th>Lexpectancy</th>\n",
              "      <th>HFC</th>\n",
              "      <th>BasicWater</th>\n",
              "      <th>GHEmissions</th>\n",
              "      <th>ElecPowCons</th>\n",
              "      <th>Year</th>\n",
              "      <th>L_trans</th>\n",
              "      <th>Africa</th>\n",
              "      <th>America</th>\n",
              "      <th>Asia</th>\n",
              "      <th>Europe</th>\n",
              "      <th>Oceania</th>\n",
              "    </tr>\n",
              "  </thead>\n",
              "  <tbody>\n",
              "    <tr>\n",
              "      <th>0</th>\n",
              "      <td>Albania</td>\n",
              "      <td>28.332116</td>\n",
              "      <td>4598.418</td>\n",
              "      <td>52.163</td>\n",
              "      <td>100.000000</td>\n",
              "      <td>76.562</td>\n",
              "      <td>105.0</td>\n",
              "      <td>87.811285</td>\n",
              "      <td>8506.996034</td>\n",
              "      <td>1943.343354</td>\n",
              "      <td>2010</td>\n",
              "      <td>1.362148e+08</td>\n",
              "      <td>0</td>\n",
              "      <td>0</td>\n",
              "      <td>0</td>\n",
              "      <td>1</td>\n",
              "      <td>0</td>\n",
              "    </tr>\n",
              "    <tr>\n",
              "      <th>1</th>\n",
              "      <td>Algeria</td>\n",
              "      <td>0.805294</td>\n",
              "      <td>119177.500</td>\n",
              "      <td>67.540</td>\n",
              "      <td>100.000000</td>\n",
              "      <td>74.938</td>\n",
              "      <td>275.0</td>\n",
              "      <td>92.389465</td>\n",
              "      <td>167674.633001</td>\n",
              "      <td>1016.636669</td>\n",
              "      <td>2010</td>\n",
              "      <td>1.232293e+08</td>\n",
              "      <td>1</td>\n",
              "      <td>0</td>\n",
              "      <td>0</td>\n",
              "      <td>0</td>\n",
              "      <td>0</td>\n",
              "    </tr>\n",
              "    <tr>\n",
              "      <th>2</th>\n",
              "      <td>Angola</td>\n",
              "      <td>46.907837</td>\n",
              "      <td>29057.308</td>\n",
              "      <td>59.783</td>\n",
              "      <td>100.000000</td>\n",
              "      <td>55.350</td>\n",
              "      <td>31.0</td>\n",
              "      <td>50.376841</td>\n",
              "      <td>40029.392101</td>\n",
              "      <td>206.454411</td>\n",
              "      <td>2010</td>\n",
              "      <td>2.991112e+07</td>\n",
              "      <td>1</td>\n",
              "      <td>0</td>\n",
              "      <td>0</td>\n",
              "      <td>0</td>\n",
              "      <td>0</td>\n",
              "    </tr>\n",
              "    <tr>\n",
              "      <th>3</th>\n",
              "      <td>Argentina</td>\n",
              "      <td>10.449119</td>\n",
              "      <td>187904.414</td>\n",
              "      <td>90.849</td>\n",
              "      <td>99.447641</td>\n",
              "      <td>75.278</td>\n",
              "      <td>506.0</td>\n",
              "      <td>98.468054</td>\n",
              "      <td>364684.253846</td>\n",
              "      <td>2877.652653</td>\n",
              "      <td>2010</td>\n",
              "      <td>1.258638e+08</td>\n",
              "      <td>0</td>\n",
              "      <td>1</td>\n",
              "      <td>0</td>\n",
              "      <td>0</td>\n",
              "      <td>0</td>\n",
              "    </tr>\n",
              "    <tr>\n",
              "      <th>4</th>\n",
              "      <td>Armenia</td>\n",
              "      <td>11.626273</td>\n",
              "      <td>4209.716</td>\n",
              "      <td>63.440</td>\n",
              "      <td>100.000000</td>\n",
              "      <td>73.331</td>\n",
              "      <td>565.0</td>\n",
              "      <td>98.266056</td>\n",
              "      <td>11393.039353</td>\n",
              "      <td>1726.259758</td>\n",
              "      <td>2010</td>\n",
              "      <td>1.113579e+08</td>\n",
              "      <td>0</td>\n",
              "      <td>0</td>\n",
              "      <td>0</td>\n",
              "      <td>1</td>\n",
              "      <td>0</td>\n",
              "    </tr>\n",
              "  </tbody>\n",
              "</table>\n",
              "</div>"
            ],
            "text/plain": [
              "     Country  ForestArea  CO2Emissions  ...  Asia  Europe  Oceania\n",
              "0    Albania   28.332116      4598.418  ...     0       1        0\n",
              "1    Algeria    0.805294    119177.500  ...     0       0        0\n",
              "2     Angola   46.907837     29057.308  ...     0       0        0\n",
              "3  Argentina   10.449119    187904.414  ...     0       0        0\n",
              "4    Armenia   11.626273      4209.716  ...     0       1        0\n",
              "\n",
              "[5 rows x 17 columns]"
            ]
          },
          "metadata": {
            "tags": []
          },
          "execution_count": 88
        }
      ]
    },
    {
      "cell_type": "markdown",
      "metadata": {
        "id": "TH_Ua4Yqef_W"
      },
      "source": [
        "Now we are going to add the variables separatedly, which means that we are going to perform two different Chow tests"
      ]
    },
    {
      "cell_type": "code",
      "metadata": {
        "colab": {
          "base_uri": "https://localhost:8080/"
        },
        "id": "d5x_yNBYbQYp",
        "outputId": "cfafa0f1-a743-4b88-eaef-0ec6f303288d"
      },
      "source": [
        "# Models\n",
        "pooled =  wls('Lexpectancy ~ BasicWater + ElecPowCons', data = new_data).fit()\n",
        "model_0 = wls('Lexpectancy ~ BasicWater + ElecPowCons', data = new_data[new_data['Africa'] == 0]).fit()\n",
        "model_1 = wls('Lexpectancy ~ BasicWater + ElecPowCons', data = new_data[new_data['Africa'] == 1]).fit()\n",
        "\n",
        "# T and K\n",
        "T = pooled.nobs\n",
        "K = len(pooled.model.exog[0]) - 1\n",
        "\n",
        "# Sum of square residuals\n",
        "SSRp = sum(pooled.resid**2)\n",
        "SSR0 = sum(model_0.resid**2)\n",
        "SSR1 = sum(model_1.resid**2)\n",
        "\n",
        "# F-statistic\n",
        "Fstat_1 = ((SSRp - (SSR0 + SSR1))/(SSR0 + SSR1))*((T - 2*(K+1))/(K+1))\n",
        "Fstat_2 = ((SSRp - (SSR0 + SSR1))/(SSR0 + SSR1))*((T - 2*(K+1))/(K))\n",
        "\n",
        "# p-values\n",
        "Fpval_1 = 1 - ss.f.cdf(Fstat_1, K+1, n-2*(K+1))\n",
        "Fpval_2 = 1 - ss.f.cdf(Fstat_2, K, n-2*(K+1))\n",
        "\n",
        "Fpval_1, Fpval_2"
      ],
      "execution_count": null,
      "outputs": [
        {
          "output_type": "execute_result",
          "data": {
            "text/plain": [
              "(0.0007620159247209157, 0.00022828914789341237)"
            ]
          },
          "metadata": {
            "tags": []
          },
          "execution_count": 94
        }
      ]
    },
    {
      "cell_type": "markdown",
      "metadata": {
        "id": "r8Wx3rLfffnJ"
      },
      "source": [
        "we reject both tests and then all the terms, intercept and interaction are needed for this variable, and for Europe"
      ]
    },
    {
      "cell_type": "code",
      "metadata": {
        "id": "LKKDlSwoohg-",
        "colab": {
          "base_uri": "https://localhost:8080/"
        },
        "outputId": "3cf53bf4-fa4c-4a9a-87e2-9828be7fdcef"
      },
      "source": [
        "# Models\n",
        "pooled =  wls('Lexpectancy ~ BasicWater + ElecPowCons', data = new_data).fit()\n",
        "model_0 = wls('Lexpectancy ~ BasicWater + ElecPowCons', data = new_data[new_data['Europe'] == 0]).fit()\n",
        "model_1 = wls('Lexpectancy ~ BasicWater + ElecPowCons', data = new_data[new_data['Europe'] == 1]).fit()\n",
        "\n",
        "# T and K\n",
        "T = pooled.nobs\n",
        "K = len(pooled.model.exog[0]) - 1\n",
        "\n",
        "# Sum of square residuals\n",
        "SSRp = sum(pooled.resid**2)\n",
        "SSR0 = sum(model_0.resid**2)\n",
        "SSR1 = sum(model_1.resid**2)\n",
        "\n",
        "# F-statistic\n",
        "Fstat_1 = ((SSRp - (SSR0 + SSR1))/(SSR0 + SSR1))*((T - 2*(K+1))/(K+1))\n",
        "Fstat_2 = ((SSRp - (SSR0 + SSR1))/(SSR0 + SSR1))*((T - 2*(K+1))/(K))\n",
        "\n",
        "# p-values\n",
        "Fpval_1 = 1 - ss.f.cdf(Fstat_1, K+1, n-2*(K+1))\n",
        "Fpval_2 = 1 - ss.f.cdf(Fstat_2, K, n-2*(K+1))\n",
        "\n",
        "Fpval_1, Fpval_2\n"
      ],
      "execution_count": null,
      "outputs": [
        {
          "output_type": "execute_result",
          "data": {
            "text/plain": [
              "(0.10068720764780681, 0.04484245162178746)"
            ]
          },
          "metadata": {
            "tags": []
          },
          "execution_count": 95
        }
      ]
    },
    {
      "cell_type": "markdown",
      "metadata": {
        "id": "sYnbqEgFf2J-"
      },
      "source": [
        "which is not a very conclusive test, but for a 1% we should not include any term that containes Europe. With this in mind, we are only going to include the variable for Africa."
      ]
    },
    {
      "cell_type": "markdown",
      "metadata": {
        "id": "3IdNnIjpohhE"
      },
      "source": [
        "#### 3.3.2. Final Model\n",
        "\n",
        "**In case your Chow test is significant, add the variable as requested by the test, then fit the model and interpret its explanatory power from the point of view of RSE and $\\bar R^2$. If not, explain what it means.**\n",
        " "
      ]
    },
    {
      "cell_type": "code",
      "metadata": {
        "id": "lVrb0gbyohhH",
        "colab": {
          "base_uri": "https://localhost:8080/"
        },
        "outputId": "fc48fac8-5244-47f4-ea5e-3a605511dcc9"
      },
      "source": [
        "final = wls('Lexpectancy ~ BasicWater*C(Africa) + ElecPowCons*C(Africa)', data = new_data).fit()\n",
        "print(final.summary())"
      ],
      "execution_count": null,
      "outputs": [
        {
          "output_type": "stream",
          "text": [
            "                            WLS Regression Results                            \n",
            "==============================================================================\n",
            "Dep. Variable:            Lexpectancy   R-squared:                       0.739\n",
            "Model:                            WLS   Adj. R-squared:                  0.728\n",
            "Method:                 Least Squares   F-statistic:                     70.71\n",
            "Date:                Sun, 20 Jun 2021   Prob (F-statistic):           8.95e-35\n",
            "Time:                        17:38:28   Log-Likelihood:                -364.99\n",
            "No. Observations:                 131   AIC:                             742.0\n",
            "Df Residuals:                     125   BIC:                             759.2\n",
            "Df Model:                           5                                         \n",
            "Covariance Type:            nonrobust                                         \n",
            "==============================================================================================\n",
            "                                 coef    std err          t      P>|t|      [0.025      0.975]\n",
            "----------------------------------------------------------------------------------------------\n",
            "Intercept                     27.5617      4.512      6.109      0.000      18.632      36.491\n",
            "C(Africa)[T.1]                19.0793      5.433      3.512      0.001       8.327      29.832\n",
            "BasicWater                     0.4902      0.049      9.945      0.000       0.393       0.588\n",
            "BasicWater:C(Africa)[T.1]     -0.2610      0.066     -3.934      0.000      -0.392      -0.130\n",
            "ElecPowCons                    0.0002   6.68e-05      2.607      0.010     4.2e-05       0.000\n",
            "ElecPowCons:C(Africa)[T.1]     0.0005      0.000      1.655      0.101    -9.4e-05       0.001\n",
            "==============================================================================\n",
            "Omnibus:                        5.845   Durbin-Watson:                   1.866\n",
            "Prob(Omnibus):                  0.054   Jarque-Bera (JB):                5.350\n",
            "Skew:                          -0.466   Prob(JB):                       0.0689\n",
            "Kurtosis:                       3.334   Cond. No.                     1.44e+05\n",
            "==============================================================================\n",
            "\n",
            "Warnings:\n",
            "[1] Standard Errors assume that the covariance matrix of the errors is correctly specified.\n",
            "[2] The condition number is large, 1.44e+05. This might indicate that there are\n",
            "strong multicollinearity or other numerical problems.\n"
          ],
          "name": "stdout"
        }
      ]
    },
    {
      "cell_type": "markdown",
      "metadata": {
        "id": "HOhXyhjXgNDI"
      },
      "source": [
        "from this model"
      ]
    },
    {
      "cell_type": "code",
      "metadata": {
        "colab": {
          "base_uri": "https://localhost:8080/"
        },
        "id": "P1cYj970gpr-",
        "outputId": "9c7fa650-b1b7-461c-cb41-d4e106cc7556"
      },
      "source": [
        "# Data ---------------------------\n",
        "residuals = final.resid\n",
        "n = final.nobs\n",
        "K = len(final.model.exog[0])-1\n",
        "\n",
        "# Variance of the Errors ---------\n",
        "RSS = sum(residuals**2)\n",
        "\n",
        "# Explanatory Power --------------\n",
        "RSE = np.sqrt(RSS/(n-K-1))\n",
        "r2 = final.rsquared_adj\n",
        "\n",
        "print(f'The adjusted R2 is {r2:4.4f}')\n",
        "print(f'The Residuals Standard Error is {RSE:4.4f}')"
      ],
      "execution_count": null,
      "outputs": [
        {
          "output_type": "stream",
          "text": [
            "The adjusted R2 is 0.7283\n",
            "The Residuals Standard Error is 4.0177\n"
          ],
          "name": "stdout"
        }
      ]
    },
    {
      "cell_type": "markdown",
      "metadata": {
        "id": "On5bOJyBhF57"
      },
      "source": [
        "These values imply that we can explain the $72.83\\%$ of the life expectancy with this model and that even if the model were the true one, on average, we would still be 4.02 years away from the true value due to the random noise in the variable.\n",
        "\n",
        "Note that we have increased only a bith the value of $R^2$ and reduced a bit the value of the RSE, so the improvement has not been very significant."
      ]
    },
    {
      "cell_type": "markdown",
      "metadata": {
        "id": "nVhFNI5gohhL"
      },
      "source": [
        "#### 3.3.3. Interpretation\n",
        "\n",
        "**Interpret the impact of all the *statistically relevant* variables in the model *with* the dummy variables**"
      ]
    },
    {
      "cell_type": "markdown",
      "metadata": {
        "id": "0kwrlRtthZYT"
      },
      "source": [
        "Given the coefficients in the model, we can write it as\n",
        "\n",
        "\\begin{equation}\n",
        "\\text{Lexpectancy} = 27.56 + 0.49\\,\\text{BasicWater} + 0.0002\\,\\text{ElecPowCons} + 19.08\\,\\text{Africa} -0.26\\,\\text{BasicWater}\\cdot \\text{Africa} +0.0005\\,\\text{ElecPowCons}\\cdot \\text{Africa}\n",
        "\\end{equation}\n",
        "\n",
        "which can be written as the following two models for Africa and Not-Africa\n",
        "\n",
        "\\begin{equation}\n",
        "\\text{Lexpectancy}^A = 46.64 + 0.23\\,\\text{BasicWater} + 0.0007\\,\\text{ElecPowCons}\n",
        "\\end{equation}\n",
        "\n",
        "\\begin{equation}\n",
        "\\text{Lexpectancy}^{NA} = 27.56 + 0.49\\,\\text{BasicWater} + 0.0002\\,\\text{ElecPowCons}\n",
        "\\end{equation}\n",
        "\n",
        "the meaning of these coefficients is that\n",
        "\n",
        "  * The impact of of been African is that on average, when all the other variables are 0, is a life expectancy of 19.08 more years. \n",
        "  * For the same levels of Electric Power Consumption, the rate of change in the life expectancy due to an increase of one more unit in the Basic Water is on average 0.26 less in Africa, \n",
        "  * For the same levels of Basic Water, the rate of change of the life expectancy due to an increase of one unit in the Electric Power Consumption is 0.0005 more units on average"
      ]
    }
  ]
}